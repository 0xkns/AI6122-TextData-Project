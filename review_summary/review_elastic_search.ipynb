{
 "cells": [
  {
   "cell_type": "markdown",
   "id": "1eb8c965",
   "metadata": {},
   "source": [
    "# Setup"
   ]
  },
  {
   "cell_type": "code",
   "execution_count": 1,
   "id": "5cf53bd5",
   "metadata": {},
   "outputs": [],
   "source": [
    "from elasticsearch import Elasticsearch\n",
    "from elasticsearch.helpers import bulk\n",
    "from dotenv import load_dotenv, find_dotenv\n",
    "\n",
    "import pandas as pd\n",
    "import os\n",
    "import json\n",
    "import numpy as np"
   ]
  },
  {
   "cell_type": "code",
   "execution_count": 2,
   "id": "4bf6c6e1",
   "metadata": {
    "scrolled": true
   },
   "outputs": [
    {
     "data": {
      "text/plain": [
       "True"
      ]
     },
     "execution_count": 2,
     "metadata": {},
     "output_type": "execute_result"
    }
   ],
   "source": [
    "load_dotenv(find_dotenv())"
   ]
  },
  {
   "cell_type": "code",
   "execution_count": 3,
   "id": "e3be850d",
   "metadata": {},
   "outputs": [],
   "source": [
    "cloud_id = os.environ.get(\"CLOUD_ID\")\n",
    "api_key = os.environ.get(\"API_KEY\")"
   ]
  },
  {
   "cell_type": "code",
   "execution_count": 4,
   "id": "e7fb799e",
   "metadata": {},
   "outputs": [],
   "source": [
    "es = Elasticsearch(cloud_id=cloud_id, api_key=api_key)"
   ]
  },
  {
   "cell_type": "code",
   "execution_count": 5,
   "id": "9d6e33ce",
   "metadata": {},
   "outputs": [
    {
     "data": {
      "text/plain": [
       "ObjectApiResponse({'name': 'instance-0000000000', 'cluster_name': '1aefb5b043094a6ab6aa373a1fe311df', 'cluster_uuid': '4x3rb70ISxaylYI7fsA4Ow', 'version': {'number': '8.15.2', 'build_flavor': 'default', 'build_type': 'docker', 'build_hash': '98adf7bf6bb69b66ab95b761c9e5aadb0bb059a3', 'build_date': '2024-09-19T10:06:03.564235954Z', 'build_snapshot': False, 'lucene_version': '9.11.1', 'minimum_wire_compatibility_version': '7.17.0', 'minimum_index_compatibility_version': '7.0.0'}, 'tagline': 'You Know, for Search'})"
      ]
     },
     "execution_count": 5,
     "metadata": {},
     "output_type": "execute_result"
    }
   ],
   "source": [
    "es.info()"
   ]
  },
  {
   "cell_type": "code",
   "execution_count": 6,
   "id": "3d21876d",
   "metadata": {},
   "outputs": [
    {
     "data": {
      "text/plain": [
       "ObjectApiResponse({'acknowledged': True})"
      ]
     },
     "execution_count": 6,
     "metadata": {},
     "output_type": "execute_result"
    }
   ],
   "source": [
    "es.indices.delete(index=\"review_index\", ignore_unavailable=True)"
   ]
  },
  {
   "cell_type": "markdown",
   "id": "ed5fedcc",
   "metadata": {},
   "source": [
    "# Review Data"
   ]
  },
  {
   "cell_type": "code",
   "execution_count": 7,
   "id": "152a85bb",
   "metadata": {},
   "outputs": [
    {
     "data": {
      "text/html": [
       "<div>\n",
       "<style scoped>\n",
       "    .dataframe tbody tr th:only-of-type {\n",
       "        vertical-align: middle;\n",
       "    }\n",
       "\n",
       "    .dataframe tbody tr th {\n",
       "        vertical-align: top;\n",
       "    }\n",
       "\n",
       "    .dataframe thead th {\n",
       "        text-align: right;\n",
       "    }\n",
       "</style>\n",
       "<table border=\"1\" class=\"dataframe\">\n",
       "  <thead>\n",
       "    <tr style=\"text-align: right;\">\n",
       "      <th></th>\n",
       "      <th>review_id</th>\n",
       "      <th>user_id</th>\n",
       "      <th>business_id</th>\n",
       "      <th>stars</th>\n",
       "      <th>useful</th>\n",
       "      <th>funny</th>\n",
       "      <th>cool</th>\n",
       "      <th>text</th>\n",
       "      <th>date</th>\n",
       "    </tr>\n",
       "  </thead>\n",
       "  <tbody>\n",
       "    <tr>\n",
       "      <th>0</th>\n",
       "      <td>XW_LfMv0fV21l9c6xQd_lw</td>\n",
       "      <td>9OAtfnWag-ajVxRbUTGIyg</td>\n",
       "      <td>lj-E32x9_FA7GmUrBGBEWg</td>\n",
       "      <td>4</td>\n",
       "      <td>0</td>\n",
       "      <td>0</td>\n",
       "      <td>0</td>\n",
       "      <td>Love going here for happy hour or dinner!  Gre...</td>\n",
       "      <td>2014-06-27 22:44:01</td>\n",
       "    </tr>\n",
       "    <tr>\n",
       "      <th>1</th>\n",
       "      <td>LnGZB0fjfgeVDVz5IHuEVA</td>\n",
       "      <td>j2wlzrntrbKwyOcOiB3l3w</td>\n",
       "      <td>rBdG_23USc7DletfZ11xGA</td>\n",
       "      <td>4</td>\n",
       "      <td>1</td>\n",
       "      <td>0</td>\n",
       "      <td>0</td>\n",
       "      <td>The hubby and I have been here on multiple occ...</td>\n",
       "      <td>2014-08-10 19:41:43</td>\n",
       "    </tr>\n",
       "    <tr>\n",
       "      <th>2</th>\n",
       "      <td>vBK79c3_1Ff_oqkh5VpfGg</td>\n",
       "      <td>Ohhrhu1RkqfVciIVx_W5HQ</td>\n",
       "      <td>nRKndeZLQ3eDL10UMwS2rQ</td>\n",
       "      <td>5</td>\n",
       "      <td>2</td>\n",
       "      <td>5</td>\n",
       "      <td>2</td>\n",
       "      <td>HOLY SMOKES!\\n\\nactual pumpkin pie mixed in wi...</td>\n",
       "      <td>2009-10-13 19:49:51</td>\n",
       "    </tr>\n",
       "    <tr>\n",
       "      <th>3</th>\n",
       "      <td>yCbzm_d4cHpfUX00Ljvgmg</td>\n",
       "      <td>bHSoye7R5cL-LVWLxtaxMg</td>\n",
       "      <td>SSZDGl2J-CEyIzuIbEiYNQ</td>\n",
       "      <td>2</td>\n",
       "      <td>2</td>\n",
       "      <td>0</td>\n",
       "      <td>0</td>\n",
       "      <td>We started with the artichoke dip, big mistake...</td>\n",
       "      <td>2017-09-08 23:20:19</td>\n",
       "    </tr>\n",
       "    <tr>\n",
       "      <th>4</th>\n",
       "      <td>-up4mW6WdqzGrRh7t_pLmA</td>\n",
       "      <td>xbybLiQockAzC4xAlzFrGg</td>\n",
       "      <td>EpREWeEpmR8f1qLHzzF0AA</td>\n",
       "      <td>5</td>\n",
       "      <td>0</td>\n",
       "      <td>0</td>\n",
       "      <td>0</td>\n",
       "      <td>After living in the STL area for way over 10 y...</td>\n",
       "      <td>2011-11-30 06:58:36</td>\n",
       "    </tr>\n",
       "    <tr>\n",
       "      <th>...</th>\n",
       "      <td>...</td>\n",
       "      <td>...</td>\n",
       "      <td>...</td>\n",
       "      <td>...</td>\n",
       "      <td>...</td>\n",
       "      <td>...</td>\n",
       "      <td>...</td>\n",
       "      <td>...</td>\n",
       "      <td>...</td>\n",
       "    </tr>\n",
       "    <tr>\n",
       "      <th>502380</th>\n",
       "      <td>flql0FgydC3n0Hwx6kcJoQ</td>\n",
       "      <td>V3XYG1zKuW8VUBNtjacoxA</td>\n",
       "      <td>oHvEgLH6pAkcrPmeR1l3UQ</td>\n",
       "      <td>5</td>\n",
       "      <td>7</td>\n",
       "      <td>0</td>\n",
       "      <td>2</td>\n",
       "      <td>We are huge Retreat fans! One of my favorite t...</td>\n",
       "      <td>2018-04-26 05:15:22</td>\n",
       "    </tr>\n",
       "    <tr>\n",
       "      <th>502381</th>\n",
       "      <td>ND5Oq45jqd_dSbBD6i73kw</td>\n",
       "      <td>ezqvnYDS8WD2KshapwQ3Yw</td>\n",
       "      <td>VpJzlz3bKOJtiI1rb9kTpw</td>\n",
       "      <td>4</td>\n",
       "      <td>13</td>\n",
       "      <td>4</td>\n",
       "      <td>11</td>\n",
       "      <td>I have been to this place a few times, for lun...</td>\n",
       "      <td>2015-06-02 17:16:41</td>\n",
       "    </tr>\n",
       "    <tr>\n",
       "      <th>502382</th>\n",
       "      <td>A1Lv5xmgj2jPDIa2bF1byg</td>\n",
       "      <td>UfevNSM_H14XXWZFlHYPoA</td>\n",
       "      <td>TNtcjnta11CpDebuBNdoug</td>\n",
       "      <td>2</td>\n",
       "      <td>0</td>\n",
       "      <td>1</td>\n",
       "      <td>0</td>\n",
       "      <td>Our waiter was good but a bit rushed. I didn't...</td>\n",
       "      <td>2017-10-22 20:55:12</td>\n",
       "    </tr>\n",
       "    <tr>\n",
       "      <th>502383</th>\n",
       "      <td>E5sXn_qdPX5qRxUEApmiuA</td>\n",
       "      <td>Mc4C7fVY0sEcD-U5eOA2Og</td>\n",
       "      <td>ZNfph3_VzRLTOemk9Tmzaw</td>\n",
       "      <td>3</td>\n",
       "      <td>5</td>\n",
       "      <td>0</td>\n",
       "      <td>1</td>\n",
       "      <td>This gym gets the job done. \\n\\nUpsides: \\nChi...</td>\n",
       "      <td>2016-01-25 21:45:34</td>\n",
       "    </tr>\n",
       "    <tr>\n",
       "      <th>502384</th>\n",
       "      <td>7NgXAuTFiJHYbuepOPwU0w</td>\n",
       "      <td>x1QLCwZGFAjxRRw4EHc3-g</td>\n",
       "      <td>1_BVWDzi5cVqWxNe9bOMMQ</td>\n",
       "      <td>5</td>\n",
       "      <td>1</td>\n",
       "      <td>0</td>\n",
       "      <td>1</td>\n",
       "      <td>Don't misinterpret my 5-star review....I don't...</td>\n",
       "      <td>2016-04-30 01:02:34</td>\n",
       "    </tr>\n",
       "  </tbody>\n",
       "</table>\n",
       "<p>502385 rows × 9 columns</p>\n",
       "</div>"
      ],
      "text/plain": [
       "                     review_id                 user_id  \\\n",
       "0       XW_LfMv0fV21l9c6xQd_lw  9OAtfnWag-ajVxRbUTGIyg   \n",
       "1       LnGZB0fjfgeVDVz5IHuEVA  j2wlzrntrbKwyOcOiB3l3w   \n",
       "2       vBK79c3_1Ff_oqkh5VpfGg  Ohhrhu1RkqfVciIVx_W5HQ   \n",
       "3       yCbzm_d4cHpfUX00Ljvgmg  bHSoye7R5cL-LVWLxtaxMg   \n",
       "4       -up4mW6WdqzGrRh7t_pLmA  xbybLiQockAzC4xAlzFrGg   \n",
       "...                        ...                     ...   \n",
       "502380  flql0FgydC3n0Hwx6kcJoQ  V3XYG1zKuW8VUBNtjacoxA   \n",
       "502381  ND5Oq45jqd_dSbBD6i73kw  ezqvnYDS8WD2KshapwQ3Yw   \n",
       "502382  A1Lv5xmgj2jPDIa2bF1byg  UfevNSM_H14XXWZFlHYPoA   \n",
       "502383  E5sXn_qdPX5qRxUEApmiuA  Mc4C7fVY0sEcD-U5eOA2Og   \n",
       "502384  7NgXAuTFiJHYbuepOPwU0w  x1QLCwZGFAjxRRw4EHc3-g   \n",
       "\n",
       "                   business_id  stars  useful  funny  cool  \\\n",
       "0       lj-E32x9_FA7GmUrBGBEWg      4       0      0     0   \n",
       "1       rBdG_23USc7DletfZ11xGA      4       1      0     0   \n",
       "2       nRKndeZLQ3eDL10UMwS2rQ      5       2      5     2   \n",
       "3       SSZDGl2J-CEyIzuIbEiYNQ      2       2      0     0   \n",
       "4       EpREWeEpmR8f1qLHzzF0AA      5       0      0     0   \n",
       "...                        ...    ...     ...    ...   ...   \n",
       "502380  oHvEgLH6pAkcrPmeR1l3UQ      5       7      0     2   \n",
       "502381  VpJzlz3bKOJtiI1rb9kTpw      4      13      4    11   \n",
       "502382  TNtcjnta11CpDebuBNdoug      2       0      1     0   \n",
       "502383  ZNfph3_VzRLTOemk9Tmzaw      3       5      0     1   \n",
       "502384  1_BVWDzi5cVqWxNe9bOMMQ      5       1      0     1   \n",
       "\n",
       "                                                     text                date  \n",
       "0       Love going here for happy hour or dinner!  Gre... 2014-06-27 22:44:01  \n",
       "1       The hubby and I have been here on multiple occ... 2014-08-10 19:41:43  \n",
       "2       HOLY SMOKES!\\n\\nactual pumpkin pie mixed in wi... 2009-10-13 19:49:51  \n",
       "3       We started with the artichoke dip, big mistake... 2017-09-08 23:20:19  \n",
       "4       After living in the STL area for way over 10 y... 2011-11-30 06:58:36  \n",
       "...                                                   ...                 ...  \n",
       "502380  We are huge Retreat fans! One of my favorite t... 2018-04-26 05:15:22  \n",
       "502381  I have been to this place a few times, for lun... 2015-06-02 17:16:41  \n",
       "502382  Our waiter was good but a bit rushed. I didn't... 2017-10-22 20:55:12  \n",
       "502383  This gym gets the job done. \\n\\nUpsides: \\nChi... 2016-01-25 21:45:34  \n",
       "502384  Don't misinterpret my 5-star review....I don't... 2016-04-30 01:02:34  \n",
       "\n",
       "[502385 rows x 9 columns]"
      ]
     },
     "execution_count": 7,
     "metadata": {},
     "output_type": "execute_result"
    }
   ],
   "source": [
    "reviews = pd.read_json(\"../data/mo_business_reviews.json\")\n",
    "reviews"
   ]
  },
  {
   "cell_type": "code",
   "execution_count": 8,
   "id": "3e011280",
   "metadata": {},
   "outputs": [
    {
     "name": "stdout",
     "output_type": "stream",
     "text": [
      "Index(['review_id', 'user_id', 'business_id', 'stars', 'useful', 'funny',\n",
      "       'cool', 'text', 'date'],\n",
      "      dtype='object')\n",
      "{'review_id': 'XW_LfMv0fV21l9c6xQd_lw', 'user_id': '9OAtfnWag-ajVxRbUTGIyg', 'business_id': 'lj-E32x9_FA7GmUrBGBEWg', 'stars': 4, 'useful': 0, 'funny': 0, 'cool': 0, 'text': \"Love going here for happy hour or dinner!  Great patio with fans to beat the StL heat!   Also...very accomodating at this location.  I like the Veal Milanese but with mixed greens instead of pasta!  they'll modify the menu to suit your taste!\", 'date': Timestamp('2014-06-27 22:44:01')}\n"
     ]
    }
   ],
   "source": [
    "print(reviews.columns)\n",
    "print(reviews.iloc[0].to_dict())"
   ]
  },
  {
   "cell_type": "code",
   "execution_count": 9,
   "id": "75efdb9f",
   "metadata": {
    "scrolled": true
   },
   "outputs": [
    {
     "name": "stdout",
     "output_type": "stream",
     "text": [
      "<class 'pandas.core.frame.DataFrame'>\n",
      "RangeIndex: 502385 entries, 0 to 502384\n",
      "Data columns (total 9 columns):\n",
      " #   Column       Non-Null Count   Dtype         \n",
      "---  ------       --------------   -----         \n",
      " 0   review_id    502385 non-null  object        \n",
      " 1   user_id      502385 non-null  object        \n",
      " 2   business_id  502385 non-null  object        \n",
      " 3   stars        502385 non-null  int64         \n",
      " 4   useful       502385 non-null  int64         \n",
      " 5   funny        502385 non-null  int64         \n",
      " 6   cool         502385 non-null  int64         \n",
      " 7   text         502385 non-null  object        \n",
      " 8   date         502385 non-null  datetime64[ns]\n",
      "dtypes: datetime64[ns](1), int64(4), object(4)\n",
      "memory usage: 34.5+ MB\n"
     ]
    }
   ],
   "source": [
    "reviews.info()"
   ]
  },
  {
   "cell_type": "code",
   "execution_count": 10,
   "id": "aaa5899a",
   "metadata": {
    "scrolled": false
   },
   "outputs": [
    {
     "data": {
      "text/plain": [
       "review_id      0\n",
       "user_id        0\n",
       "business_id    0\n",
       "stars          0\n",
       "useful         0\n",
       "funny          0\n",
       "cool           0\n",
       "text           0\n",
       "date           0\n",
       "dtype: int64"
      ]
     },
     "execution_count": 10,
     "metadata": {},
     "output_type": "execute_result"
    }
   ],
   "source": [
    "reviews.isna().sum()"
   ]
  },
  {
   "cell_type": "code",
   "execution_count": 11,
   "id": "57f2a332",
   "metadata": {},
   "outputs": [
    {
     "data": {
      "text/plain": [
       "0"
      ]
     },
     "execution_count": 11,
     "metadata": {},
     "output_type": "execute_result"
    }
   ],
   "source": [
    "reviews[reviews['user_id'] == \"bYENop4BuQepBjM1-BI3fA\"]['text'].duplicated().sum()"
   ]
  },
  {
   "cell_type": "code",
   "execution_count": 12,
   "id": "1feb2908",
   "metadata": {},
   "outputs": [
    {
     "data": {
      "text/plain": [
       "502385"
      ]
     },
     "execution_count": 12,
     "metadata": {},
     "output_type": "execute_result"
    }
   ],
   "source": [
    "len(reviews)"
   ]
  },
  {
   "cell_type": "code",
   "execution_count": 13,
   "id": "b0359e78",
   "metadata": {
    "scrolled": true
   },
   "outputs": [
    {
     "data": {
      "text/plain": [
       "user_id\n",
       "bYENop4BuQepBjM1-BI3fA    1392\n",
       "eTvp_hYnsrI5-ow_sQ31_g     909\n",
       "lYQk0R6sPfo3WeX-l_5BuA     900\n",
       "PnwOegp7RXfMeNAyO9fQhQ     837\n",
       "iPkdNziqnhNukjnmsrSzmg     767\n",
       "                          ... \n",
       "df7aymkZJEl02-a1ifq_yA       1\n",
       "8rlRVrJM9HJijkYS5lfmOg       1\n",
       "hAyYemOKvfrevwFLNCnU4g       1\n",
       "rZ7qO1yqBaQbjH2g2Fsu7g       1\n",
       "6YRmtPVvnD_mexQifxAJsg       1\n",
       "Name: count, Length: 151620, dtype: int64"
      ]
     },
     "execution_count": 13,
     "metadata": {},
     "output_type": "execute_result"
    }
   ],
   "source": [
    "user_review_count = pd.Series(reviews['user_id'].value_counts())\n",
    "user_review_count"
   ]
  },
  {
   "cell_type": "code",
   "execution_count": 14,
   "id": "fde781a8",
   "metadata": {},
   "outputs": [
    {
     "data": {
      "text/plain": [
       "count    151620.000000\n",
       "mean          3.313448\n",
       "std          12.979478\n",
       "min           1.000000\n",
       "25%           1.000000\n",
       "50%           1.000000\n",
       "75%           2.000000\n",
       "max        1392.000000\n",
       "Name: count, dtype: float64"
      ]
     },
     "execution_count": 14,
     "metadata": {},
     "output_type": "execute_result"
    }
   ],
   "source": [
    "user_review_count.describe()"
   ]
  },
  {
   "cell_type": "code",
   "execution_count": 15,
   "id": "815e4f05",
   "metadata": {},
   "outputs": [],
   "source": [
    "res = pd.cut(user_review_count, bins=[0, 10, 20, float('inf')], labels=['0-10', '10-20', '>20']).value_counts()"
   ]
  },
  {
   "cell_type": "code",
   "execution_count": 16,
   "id": "3ec9c71b",
   "metadata": {},
   "outputs": [
    {
     "data": {
      "text/plain": [
       "<AxesSubplot:xlabel='count'>"
      ]
     },
     "execution_count": 16,
     "metadata": {},
     "output_type": "execute_result"
    },
    {
     "data": {
      "image/png": "[encoded data removed]",
      "text/plain": [
       "<Figure size 432x288 with 1 Axes>"
      ]
     },
     "metadata": {
      "needs_background": "light"
     },
     "output_type": "display_data"
    }
   ],
   "source": [
    "res.plot()"
   ]
  },
  {
   "cell_type": "markdown",
   "id": "9414daec",
   "metadata": {},
   "source": [
    "151620 Unique User Ids are present"
   ]
  },
  {
   "cell_type": "code",
   "execution_count": 17,
   "id": "c3dd3c70",
   "metadata": {
    "scrolled": false
   },
   "outputs": [
    {
     "data": {
      "text/plain": [
       "count\n",
       "0-10     144756\n",
       "10-20      3941\n",
       ">20        2923\n",
       "Name: count, dtype: int64"
      ]
     },
     "execution_count": 17,
     "metadata": {},
     "output_type": "execute_result"
    }
   ],
   "source": [
    "res"
   ]
  },
  {
   "cell_type": "code",
   "execution_count": 18,
   "id": "9f4e4969",
   "metadata": {},
   "outputs": [
    {
     "data": {
      "text/plain": [
       "business_id\n",
       "I_3LMZ_1m2mzR0oLIOePIg    4093\n",
       "iRIHK8-EwpeffwvoO4nzIA    2170\n",
       "2BMk_drsikKWslJCXmQtjQ    2023\n",
       "R8t9g5nvi7VFyS8zsgmj8Q    1788\n",
       "cQIh4YJlVtZI9TLF5_smOg    1781\n",
       "                          ... \n",
       "FW9ozwOA7sOSS8EDr6fg_Q       5\n",
       "JqLGx2zcKVd6YhctqWCNBg       5\n",
       "ly1bPRLBnGbC98m96D8i-g       5\n",
       "8tt_vJrwlmnxgjaInr5ldQ       5\n",
       "9vtbZ5M2LlXbP1w50mB_IQ       5\n",
       "Name: count, Length: 10913, dtype: int64"
      ]
     },
     "execution_count": 18,
     "metadata": {},
     "output_type": "execute_result"
    }
   ],
   "source": [
    "reviews[\"business_id\"].value_counts()"
   ]
  },
  {
   "cell_type": "markdown",
   "id": "55d1138a",
   "metadata": {},
   "source": [
    "# Business Data"
   ]
  },
  {
   "cell_type": "code",
   "execution_count": 19,
   "id": "ad60a1f8",
   "metadata": {
    "scrolled": true
   },
   "outputs": [
    {
     "name": "stdout",
     "output_type": "stream",
     "text": [
      "Index(['business_id', 'name', 'address', 'city', 'state', 'postal_code',\n",
      "       'latitude', 'longitude', 'stars', 'review_count', 'is_open',\n",
      "       'attributes', 'categories', 'hours'],\n",
      "      dtype='object')\n",
      "{'business_id': 'mpf3x-BjTdTEA3yCZrAYPw', 'name': 'The UPS Store', 'address': '87 Grasso Plaza Shopping Center', 'city': 'Affton', 'state': 'MO', 'postal_code': '63123', 'latitude': 38.551126, 'longitude': -90.335695, 'stars': 3.0, 'review_count': 15, 'is_open': 1, 'attributes': {'BusinessAcceptsCreditCards': 'True'}, 'categories': 'Shipping Centers, Local Services, Notaries, Mailbox Centers, Printing Services', 'hours': {'Monday': '0:0-0:0', 'Tuesday': '8:0-18:30', 'Wednesday': '8:0-18:30', 'Thursday': '8:0-18:30', 'Friday': '8:0-18:30', 'Saturday': '8:0-14:0'}}\n"
     ]
    }
   ],
   "source": [
    "df = pd.read_json(\"../data/mo_business.json\")\n",
    "print(df.columns)\n",
    "print(df.iloc[0].to_dict())"
   ]
  },
  {
   "cell_type": "code",
   "execution_count": 20,
   "id": "865a38d3",
   "metadata": {},
   "outputs": [],
   "source": [
    "def clean_boolean(value):\n",
    "    if isinstance(value, str):\n",
    "        return value.lower() == 'true'\n",
    "    return bool(value) if value is not None else None"
   ]
  },
  {
   "cell_type": "code",
   "execution_count": 21,
   "id": "3daf31bb",
   "metadata": {},
   "outputs": [],
   "source": [
    "## fillna\n",
    "df['attributes'] = df['attributes'].apply(lambda x: {} if pd.isna(x) else x)\n",
    "df['attributes'] = df['attributes'].apply(lambda x: {'BusinessAcceptsCreditCards': clean_boolean(x.get('BusinessAcceptsCreditCards'))} if isinstance(x, dict) else {})\n",
    "df['hours'] = df['hours'].apply(lambda x: {} if pd.isna(x) else x)\n",
    "df['categories'] = df['categories'].fillna(\"Unknown\")\n",
    "\n",
    "## dtype mapping\n",
    "df['is_open'] = df['is_open'].astype(bool)\n",
    "df['business_id'] = df['business_id'].astype(str)\n",
    "df['name'] = df['name'].astype(str)\n",
    "df['postal_code'] = df['postal_code'].astype(str)"
   ]
  },
  {
   "cell_type": "code",
   "execution_count": 22,
   "id": "4d2fd52e",
   "metadata": {},
   "outputs": [],
   "source": [
    "## fillna\n",
    "df['attributes'] = df['attributes'].apply(lambda x: {} if pd.isna(x) else x)\n",
    "df['attributes'] = df['attributes'].apply(lambda x: {'BusinessAcceptsCreditCards': clean_boolean(x.get('BusinessAcceptsCreditCards'))} if isinstance(x, dict) else {})\n",
    "df['hours'] = df['hours'].apply(lambda x: {} if pd.isna(x) else x)\n",
    "df['categories'] = df['categories'].fillna(\"Unknown\")\n",
    "\n",
    "## dtype mapping\n",
    "df['is_open'] = df['is_open'].astype(bool)\n",
    "df['business_id'] = df['business_id'].astype(str)\n",
    "df['name'] = df['name'].astype(str)\n",
    "df['postal_code'] = df['postal_code'].astype(str)"
   ]
  },
  {
   "cell_type": "code",
   "execution_count": 23,
   "id": "f7cee53b",
   "metadata": {},
   "outputs": [
    {
     "data": {
      "text/plain": [
       "business_id\n",
       "mpf3x-BjTdTEA3yCZrAYPw    1\n",
       "LCMpkeQWHdCbuX0Nlkmeow    1\n",
       "4aSj0fmfFT2iqxr4-AzalA    1\n",
       "VcamrM5awvkJrvkBgUNaIw    1\n",
       "V7nIENZIo9zPrkQ-qRxHWA    1\n",
       "                         ..\n",
       "R8-iNVaAd0xLPes8oAQ6Rw    1\n",
       "mPuEgppqgqF9cvvlGTEocg    1\n",
       "9OH9xOearyJrCPXL9xOImA    1\n",
       "2xTj2i6yngysac6jrkbUOg    1\n",
       "LTeBejee7jIpaYWWll-Ubw    1\n",
       "Name: count, Length: 10913, dtype: int64"
      ]
     },
     "execution_count": 23,
     "metadata": {},
     "output_type": "execute_result"
    }
   ],
   "source": [
    "df[\"business_id\"].value_counts()"
   ]
  },
  {
   "cell_type": "code",
   "execution_count": 24,
   "id": "b0ce43e6",
   "metadata": {},
   "outputs": [],
   "source": [
    "index_name = \"business_data\"\n",
    "\n",
    "mapping = {\n",
    "    \"mappings\": {\n",
    "        \"properties\": {\n",
    "            \"business_id\": {\"type\": \"keyword\"},\n",
    "            \"name\": {\"type\": \"text\"},\n",
    "            \"address\": {\"type\": \"text\"},\n",
    "            \"city\": {\"type\": \"keyword\"},\n",
    "            \"state\": {\"type\": \"keyword\"},\n",
    "            \"postal_code\": {\"type\": \"keyword\"},\n",
    "            \"location\": { \"type\": \"geo_point\" },\n",
    "            \"latitude\": {\"type\": \"float\"},\n",
    "            \"longitude\": {\"type\": \"float\"},\n",
    "            \"stars\": {\"type\": \"float\"},\n",
    "            \"review_count\": {\"type\": \"integer\"},\n",
    "            \"is_open\": {\"type\": \"boolean\"},\n",
    "            \"attributes\": {\n",
    "                \"properties\": {\n",
    "                    \"BusinessAcceptsCreditCards\": {\"type\": \"boolean\"}\n",
    "                }\n",
    "            },\n",
    "            \"categories\": {\"type\": \"text\"},\n",
    "            \"hours\": {\n",
    "                \"properties\": {\n",
    "                    \"Monday\": {\"type\": \"text\"},\n",
    "                    \"Tuesday\": {\"type\": \"text\"},\n",
    "                    \"Wednesday\": {\"type\": \"text\"},\n",
    "                    \"Thursday\": {\"type\": \"text\"},\n",
    "                    \"Friday\": {\"type\": \"text\"},\n",
    "                    \"Saturday\": {\"type\": \"text\"},\n",
    "                    \"Sunday\": {\"type\": \"text\"}\n",
    "                }\n",
    "            }\n",
    "        }\n",
    "    }\n",
    "}"
   ]
  },
  {
   "cell_type": "code",
   "execution_count": 25,
   "id": "da3df7b4",
   "metadata": {},
   "outputs": [],
   "source": [
    "from elasticsearch.helpers import bulk"
   ]
  },
  {
   "cell_type": "code",
   "execution_count": 26,
   "id": "cd52f4c3",
   "metadata": {},
   "outputs": [
    {
     "name": "stdout",
     "output_type": "stream",
     "text": [
      "Index 'business_data' already exists.\n"
     ]
    }
   ],
   "source": [
    "if not es.indices.exists(index=index_name):\n",
    "    es.indices.create(index=index_name, body=mapping)\n",
    "    print(f\"Index '{index_name}' created successfully!\")\n",
    "else:\n",
    "    print(f\"Index '{index_name}' already exists.\")"
   ]
  },
  {
   "cell_type": "code",
   "execution_count": 27,
   "id": "3de00a73",
   "metadata": {},
   "outputs": [
    {
     "name": "stdout",
     "output_type": "stream",
     "text": [
      "Data uploaded successfully: (10913, [])\n"
     ]
    }
   ],
   "source": [
    "def upload_to_elastic(df, index_name):\n",
    "    for _, row in df.iterrows():\n",
    "        row_data = row.to_dict()\n",
    "        row_data['location'] = {\n",
    "            'lat': row_data['latitude'],\n",
    "            'lon': row_data['longitude']\n",
    "        }\n",
    "        yield {\n",
    "            \"_index\": index_name,\n",
    "            \"_id\": row_data['business_id'],\n",
    "            \"_source\": row_data\n",
    "        }\n",
    "\n",
    "try:\n",
    "    response = bulk(es, upload_to_elastic(df, index_name))\n",
    "    print(\"Data uploaded successfully:\", response)\n",
    "except Exception as e:\n",
    "    print(\"Error uploading data:\", e)"
   ]
  },
  {
   "cell_type": "code",
   "execution_count": 28,
   "id": "f7669af3",
   "metadata": {
    "scrolled": true
   },
   "outputs": [
    {
     "name": "stdout",
     "output_type": "stream",
     "text": [
      "Business Name: Imo's Pizza, Score: 4.2314672\n",
      "Business Name: Domino's Pizza, Score: 4.2314672\n",
      "Business Name: Elicia's Pizza, Score: 4.2314672\n",
      "Business Name: Reavis Pizza, Score: 4.2314672\n",
      "Business Name: Imo's Pizza, Score: 4.2314672\n",
      "Business Name: Imo's Pizza, Score: 4.2314672\n",
      "Business Name: Marco's Pizza, Score: 4.2314672\n",
      "Business Name: Jet's Pizza, Score: 4.2314672\n",
      "Business Name: Pizza Hut, Score: 4.2314672\n",
      "Business Name: Pizza Hut, Score: 4.2314672\n"
     ]
    }
   ],
   "source": [
    "search_query = {\n",
    "    \"query\": {\n",
    "        \"match\": {\n",
    "            \"name\": \"pizza\"\n",
    "        }\n",
    "    }\n",
    "}\n",
    "\n",
    "response = es.search(index=\"business_data\", body=search_query)\n",
    "\n",
    "for hit in response['hits']['hits']:\n",
    "    print(f\"Business Name: {hit['_source']['name']}, Score: {hit['_score']}\")"
   ]
  },
  {
   "cell_type": "code",
   "execution_count": 29,
   "id": "8c067d0c",
   "metadata": {
    "scrolled": false
   },
   "outputs": [
    {
     "data": {
      "text/plain": [
       "(0        38.551126\n",
       " 1        38.627695\n",
       " 2        38.565165\n",
       " 3        38.613576\n",
       " 4        38.617272\n",
       "            ...    \n",
       " 10908    38.572572\n",
       " 10909    38.715094\n",
       " 10910    38.660185\n",
       " 10911    38.641988\n",
       " 10912    38.631909\n",
       " Name: latitude, Length: 10913, dtype: float64,\n",
       " 0       -90.335695\n",
       " 1       -90.340465\n",
       " 2       -90.321087\n",
       " 3       -90.322383\n",
       " 4       -90.212784\n",
       "            ...    \n",
       " 10908   -90.333021\n",
       " 10909   -90.455972\n",
       " 10910   -90.225247\n",
       " 10911   -90.261655\n",
       " 10912   -90.444269\n",
       " Name: longitude, Length: 10913, dtype: float64)"
      ]
     },
     "execution_count": 29,
     "metadata": {},
     "output_type": "execute_result"
    }
   ],
   "source": [
    "df['latitude'], df['longitude']"
   ]
  },
  {
   "cell_type": "code",
   "execution_count": 30,
   "id": "3cf5ce0c",
   "metadata": {},
   "outputs": [
    {
     "name": "stdout",
     "output_type": "stream",
     "text": [
      "Business Name: The UPS Store, Location: {'lat': 38.551126, 'lon': -90.335695}\n",
      "Business Name: Famous Footwear, Location: {'lat': 38.627695, 'lon': -90.340465}\n",
      "Business Name: Tsevi's Pub And Grill, Location: {'lat': 38.5651648, 'lon': -90.3210868}\n",
      "Business Name: TKO DJs, Location: {'lat': 38.6135761, 'lon': -90.3223828}\n",
      "Business Name: Ricardo's Italian Cafe, Location: {'lat': 38.6172724, 'lon': -90.2127841}\n",
      "Business Name: Sunset 44 Bistro, Location: {'lat': 38.5832229, 'lon': -90.4071872}\n",
      "Business Name: Budweiser Brewery Experience, Location: {'lat': 38.6001971, 'lon': -90.2135377}\n",
      "Business Name: Passport Health, Location: {'lat': 38.6361966, 'lon': -90.3457542}\n",
      "Business Name: McDonald's, Location: {'lat': 38.6124951839, 'lon': -90.2219420671}\n",
      "Business Name: Eddie's Southtown Donuts, Location: {'lat': 38.5857552, 'lon': -90.2768425}\n"
     ]
    }
   ],
   "source": [
    "top_left = {\"lat\": 38.71, \"lon\": -90.45}     \n",
    "bottom_right = {\"lat\": 38.55, \"lon\": -90.21} \n",
    "\n",
    "search_query = {\n",
    "    \"query\": {\n",
    "        \"geo_bounding_box\": {\n",
    "            \"location\": {  \n",
    "                \"top_left\": top_left,\n",
    "                \"bottom_right\": bottom_right\n",
    "            }\n",
    "        }\n",
    "    }\n",
    "}\n",
    "\n",
    "response = es.search(index=\"business_data\", body=search_query)\n",
    "\n",
    "for hit in response['hits']['hits']:\n",
    "    print(f\"Business Name: {hit['_source']['name']}, Location: {hit['_source']['location']}\")"
   ]
  },
  {
   "cell_type": "markdown",
   "id": "b7271344",
   "metadata": {},
   "source": [
    "# Mappings"
   ]
  },
  {
   "cell_type": "code",
   "execution_count": 31,
   "id": "30a013bc",
   "metadata": {},
   "outputs": [
    {
     "data": {
      "text/plain": [
       "ObjectApiResponse({'acknowledged': True, 'shards_acknowledged': True, 'index': 'review_index'})"
      ]
     },
     "execution_count": 31,
     "metadata": {},
     "output_type": "execute_result"
    }
   ],
   "source": [
    "mappings = {\n",
    "    \"properties\": {\n",
    "        \"review_id\": {\"type\": \"keyword\"},\n",
    "        \"user_id\": {\"type\": \"keyword\"},\n",
    "        \"business_id\": {\"type\": \"keyword\"},\n",
    "        \"stars\": {\"type\": \"integer\"},\n",
    "        \"useful\": {\"type\": \"integer\"},\n",
    "        \"funny\": {\"type\": \"integer\"},\n",
    "        \"cool\": {\"type\": \"integer\"},\n",
    "        \"text\": {\"type\": \"text\"},\n",
    "        \"date\": {\"type\": \"date\"},\n",
    "        # \"text_vector\": {\n",
    "        #     \"type\": \"dense_vector\",\n",
    "        #     \"similarity\": \"cosine\",\n",
    "        # },\n",
    "    }\n",
    "}\n",
    "\n",
    "\n",
    "es.indices.create(index=\"review_index\", mappings=mappings)"
   ]
  },
  {
   "cell_type": "code",
   "execution_count": 32,
   "id": "a3a1db08",
   "metadata": {
    "scrolled": true
   },
   "outputs": [],
   "source": [
    "operations = []\n",
    "for _, row in reviews.iterrows():\n",
    "    row_data = row.to_dict()\n",
    "    # row_data[\"text_vector\"] = model.encode(row_data[\"text\"]).tolist()\n",
    "    record = {\n",
    "        '_op_type': 'index',\n",
    "        '_index': 'review_index',\n",
    "        '_source': row_data\n",
    "    }\n",
    "    operations.append(record)"
   ]
  },
  {
   "cell_type": "code",
   "execution_count": 33,
   "id": "e6ab7442",
   "metadata": {},
   "outputs": [
    {
     "data": {
      "text/plain": [
       "502385"
      ]
     },
     "execution_count": 33,
     "metadata": {},
     "output_type": "execute_result"
    }
   ],
   "source": [
    "len(operations)"
   ]
  },
  {
   "cell_type": "code",
   "execution_count": 34,
   "id": "d2787325",
   "metadata": {},
   "outputs": [
    {
     "name": "stdout",
     "output_type": "stream",
     "text": [
      "Data uploaded successfully: (502385, [])\n"
     ]
    }
   ],
   "source": [
    "try:\n",
    "    response =  bulk(es, operations)\n",
    "    print(\"Data uploaded successfully:\", response)\n",
    "except Exception as e:\n",
    "    print(\"Error uploading data:\", e)"
   ]
  },
  {
   "cell_type": "markdown",
   "id": "1fe066cb",
   "metadata": {},
   "source": [
    "#### 1. Number of Reviews"
   ]
  },
  {
   "cell_type": "code",
   "execution_count": 36,
   "id": "72d89f5a",
   "metadata": {},
   "outputs": [
    {
     "name": "stdout",
     "output_type": "stream",
     "text": [
      "User ID: bYENop4BuQepBjM1-BI3fA \n",
      "Review Count:  1392 \n",
      "ID of 10 Businesses Reviewed:  ['ahpLj4hNo2-2w_xf2sNE3g', 'vuAI70USd3my2Kb9_9zajw', 'ZfZhTZ5CHU5LQDeEUGsE_Q', 'k8hFz4Gty5dHlDV4Wt8FqA', 'vD2jzpPv4iyOLKzITscGvA', '1o9IdLrFGMS2o5Y8uXKC0Q', 'LlB8qvLyxGWjduZb90EQUg', 'OcCrSDYR5cETO4FZ7R2iEg', 'eRnCmPc6TTbNK-Zs0jgYPA', 'qfABDeMSCirVPeG6BfcUEA']\n"
     ]
    }
   ],
   "source": [
    "query = {\n",
    "    \"query\": {\n",
    "        \"term\": {\"user_id\": \"bYENop4BuQepBjM1-BI3fA\"}\n",
    "    },\n",
    "    \"aggs\": {\n",
    "        \"review_count\": {\"value_count\": {\"field\": \"user_id\"}},\n",
    "        \"unique_businesses\": {\n",
    "            \"terms\": {\n",
    "                \"field\": \"business_id\",\n",
    "                \"size\": 5000  \n",
    "            }\n",
    "        }\n",
    "    },\n",
    "    \"_source\": [\"business_id\"],\n",
    "    \"size\": 0  \n",
    "}\n",
    "\n",
    "try:\n",
    "    response = es.search(index='review_index', body=query)\n",
    "\n",
    "    review_count = response['aggregations']['review_count']['value']\n",
    "    business_ids = [bucket['key'] for bucket in response['aggregations']['unique_businesses']['buckets']]\n",
    "\n",
    "    print(\"User ID: bYENop4BuQepBjM1-BI3fA\", \"\\nReview Count: \", review_count, \"\\nID of 10 Businesses Reviewed: \", business_ids[:10])\n",
    "    \n",
    "except Exception as e:\n",
    "    print(f\"Error analyzing user reviews: {e}\")\n",
    "    raise"
   ]
  },
  {
   "cell_type": "code",
   "execution_count": 37,
   "id": "14d0aee6",
   "metadata": {},
   "outputs": [
    {
     "data": {
      "text/plain": [
       "ObjectApiResponse({'took': 729, 'timed_out': False, '_shards': {'total': 1, 'successful': 1, 'skipped': 0, 'failed': 0}, 'hits': {'total': {'value': 1392, 'relation': 'eq'}, 'max_score': None, 'hits': []}, 'aggregations': {'review_count': {'value': 1392}, 'unique_businesses': {'doc_count_error_upper_bound': 0, 'sum_other_doc_count': 0, 'buckets': [{'key': 'ahpLj4hNo2-2w_xf2sNE3g', 'doc_count': 9}, {'key': 'vuAI70USd3my2Kb9_9zajw', 'doc_count': 7}, {'key': 'ZfZhTZ5CHU5LQDeEUGsE_Q', 'doc_count': 6}, {'key': 'k8hFz4Gty5dHlDV4Wt8FqA', 'doc_count': 6}, {'key': 'vD2jzpPv4iyOLKzITscGvA', 'doc_count': 6}, {'key': '1o9IdLrFGMS2o5Y8uXKC0Q', 'doc_count': 5}, {'key': 'LlB8qvLyxGWjduZb90EQUg', 'doc_count': 5}, {'key': 'OcCrSDYR5cETO4FZ7R2iEg', 'doc_count': 5}, {'key': 'eRnCmPc6TTbNK-Zs0jgYPA', 'doc_count': 5}, {'key': 'qfABDeMSCirVPeG6BfcUEA', 'doc_count': 5}, {'key': 'vWjME92WddneF98IqzaNfQ', 'doc_count': 5}, {'key': 'vs0oc4GRG0bUwpTdJ_tjlw', 'doc_count': 5}, {'key': '0cddB9WRKcQhzAEXEav81w', 'doc_count': 4}, {'key': '20-EyTyDc2-a30iDAQj64g', 'doc_count': 4}, {'key': '3eVq5UURF4LC1F_1fJFKag', 'doc_count': 4}, {'key': '8l7L3e22t3uQmG_r8zEa4g', 'doc_count': 4}, {'key': 'Aews7EoMh_crFva-uNbVYQ', 'doc_count': 4}, {'key': 'GqyOrF5X21ciTjnuSCH5PQ', 'doc_count': 4}, {'key': 'Hu76Aq4rrCu8jwnoUNQ6Kw', 'doc_count': 4}, {'key': 'J_195G8K_MziKZEXj7Nxdw', 'doc_count': 4}, {'key': 'MEhkXOeLwdbSZgCIpDVftg', 'doc_count': 4}, {'key': 'OZcl2HOUXAHuICrh5d2WjQ', 'doc_count': 4}, {'key': 'TFq1HZ3NwIpmIb11au2Byg', 'doc_count': 4}, {'key': 'Vq3DbGLExt1n1iWq5Ug9qw', 'doc_count': 4}, {'key': 'YagBnM_WpABtV3Ti3q26mQ', 'doc_count': 4}, {'key': '_gVyuTRb_6HM-SNtqbpevQ', 'doc_count': 4}, {'key': 'bqR_3sT_rNp0hZglPtX6rw', 'doc_count': 4}, {'key': 'cXsrd3SqPh778u2yaiAslA', 'doc_count': 4}, {'key': 'f5PnoUGTgktdw7VWnIz7ww', 'doc_count': 4}, {'key': 'n3xvOtNs4NHMY9TrBFh0jQ', 'doc_count': 4}, {'key': 'nRKndeZLQ3eDL10UMwS2rQ', 'doc_count': 4}, {'key': 'vqupAQF3TJCO25nC7f2E6Q', 'doc_count': 4}, {'key': 'yGZ4VTkXNwYnDG5R5ZMDjQ', 'doc_count': 4}, {'key': '-avab463zBaQuHi5Xl2vpA', 'doc_count': 3}, {'key': '-qLZigxir60lX8_8BrKLow', 'doc_count': 3}, {'key': '0MhxvTys2ADYa3sOO91ldQ', 'doc_count': 3}, {'key': '1273Bls7BI8qD0nw2an9vw', 'doc_count': 3}, {'key': '2BMk_drsikKWslJCXmQtjQ', 'doc_count': 3}, {'key': '2gaK4u6lMLRbn8GqDuREwA', 'doc_count': 3}, {'key': '39EG5mbSHIc8VaFb71Qaww', 'doc_count': 3}, {'key': '3XXt0s_SDC9SyFTiIPNSgA', 'doc_count': 3}, {'key': '4w0humU5JN7WcnirxBv05g', 'doc_count': 3}, {'key': '6kfHd2o8k02B2bZ4_-BHlw', 'doc_count': 3}, {'key': '77JJM1gXrF0LL35-kVgg0Q', 'doc_count': 3}, {'key': '90pJu2O7fIEm_N31Fyue7A', 'doc_count': 3}, {'key': 'Ac0W0fBY0WRQ8LqdCRXUAQ', 'doc_count': 3}, {'key': 'BATrNfVKnNCQ2qAcod83Sw', 'doc_count': 3}, {'key': 'D1lOc4bmegUFyp_eAyJPjw', 'doc_count': 3}, {'key': 'DzVYXX8mc5x31BbaP8c0_Q', 'doc_count': 3}, {'key': 'El_2Cxuq4hxqrmlg_5nzzA', 'doc_count': 3}, {'key': 'FFhS5dhkyRdLhqQo8Q5WTQ', 'doc_count': 3}, {'key': 'FNrV0iVay6cBUDWP8_mdNA', 'doc_count': 3}, {'key': 'Fx_yFwHlHboVTTj-4NJQyg', 'doc_count': 3}, {'key': 'G6h-9AZro_Ni_4eRR9CkRw', 'doc_count': 3}, {'key': 'L-VNs3YquPGKVsXl2Ze-Yg', 'doc_count': 3}, {'key': 'NHb6QTrJOnyIj-Zd0fYzFg', 'doc_count': 3}, {'key': 'Nd7qrRKmymserjusZSCEGg', 'doc_count': 3}, {'key': 'O93AIQy9P4YTYDlRl5rRUw', 'doc_count': 3}, {'key': 'Pga6XPm8w0qMBg9wENRsEA', 'doc_count': 3}, {'key': 'R8t9g5nvi7VFyS8zsgmj8Q', 'doc_count': 3}, {'key': 'SSMxlv-MpG1K4Xb9sNJXww', 'doc_count': 3}, {'key': 'UiRc8q_KiEeFuWNjuovqxA', 'doc_count': 3}, {'key': 'WPeaBiE8WzLOjn5_w9ektQ', 'doc_count': 3}, {'key': 'Y9CWVffIrTYCXE9PVreerQ', 'doc_count': 3}, {'key': 'ZAJUjfosa5-_nac23w0nlQ', 'doc_count': 3}, {'key': 'aI3B47Y_AUYFP5K5JAYrlA', 'doc_count': 3}, {'key': 'b2FwlYZiMKEB95fFhLEqWw', 'doc_count': 3}, {'key': 'bji0nOYNgVWMZkN6LqsEJA', 'doc_count': 3}, {'key': 'c1F-LyDZkbCY2kAbJTluFA', 'doc_count': 3}, {'key': 'cQIh4YJlVtZI9TLF5_smOg', 'doc_count': 3}, {'key': 'cVmZi47mbCb4Yhi1_GVViA', 'doc_count': 3}, {'key': 'eYKJ46F0Asr9J21Wkqf-fw', 'doc_count': 3}, {'key': 'g05xfig52OQmKgmaVatDXw', 'doc_count': 3}, {'key': 'gVPEtTnLDLaSGyPHXikmWA', 'doc_count': 3}, {'key': 'h0MyHnBmuVIE9D8R88fCxw', 'doc_count': 3}, {'key': 'is9QogkUGhtcEALtHMyLwg', 'doc_count': 3}, {'key': 'kaW1wIGEVtLtAEIgHm_PQg', 'doc_count': 3}, {'key': 'kjX7I5bywXku18py-chn9Q', 'doc_count': 3}, {'key': 'l15nHKX1T6z-leu2h7HdVQ', 'doc_count': 3}, {'key': 'l4yf7EXgCG0dgvKhlIwnuQ', 'doc_count': 3}, {'key': 'l5A-ogr1W4VMQ4ag363bkQ', 'doc_count': 3}, {'key': 'mm3ANaRdJo8nAaPFpn76AA', 'doc_count': 3}, {'key': 'nrJ9DnQa-CzFra8BlIKqNg', 'doc_count': 3}, {'key': 'oQ8fiMZRCTAdkxweeo_D5Q', 'doc_count': 3}, {'key': 'pKxOXAuC1i8mnUjxVW2tnQ', 'doc_count': 3}, {'key': 'pSNZ_qDBzWQQEL0HHuukEw', 'doc_count': 3}, {'key': 'qFlNZkgFRdYn6r1VZHjL3w', 'doc_count': 3}, {'key': 'qfFkIlopQ4U7qm0qHXNnhw', 'doc_count': 3}, {'key': 'rBdG_23USc7DletfZ11xGA', 'doc_count': 3}, {'key': 'rue29J9JtWiov3sI0VLCZw', 'doc_count': 3}, {'key': 'sMTmX6yttmwIhNWxlNtNfA', 'doc_count': 3}, {'key': 'tW85sx5fr8-gCTCOi0c9Pg', 'doc_count': 3}, {'key': 'uv3yhJ9Ffhuz_2AR5SmOjQ', 'doc_count': 3}, {'key': 'vKe17_Y2bTHjXeFyjMbpnw', 'doc_count': 3}, {'key': 'vRj1rgF4ZpwGt97MbcRzqg', 'doc_count': 3}, {'key': 'yAJOgTFuBuUewZZl8X28Gg', 'doc_count': 3}, {'key': 'yU7ZlN5xr13C9OH7qz6cbA', 'doc_count': 3}, {'key': 'z7em5co2qckbAXoDGXynsA', 'doc_count': 3}, {'key': 'zAF8l3cnuUa92GpPmmSHdA', 'doc_count': 3}, {'key': 'zVoxVPHEt11_0GzqNuT2ZQ', 'doc_count': 3}, {'key': '-6OjnX3ZdDOhHxWR60wysg', 'doc_count': 2}, {'key': '-W0tnXYJ4WuxLjzmbwlVAQ', 'doc_count': 2}, {'key': '0AfjyySl4Rivh-QhWfrClA', 'doc_count': 2}, {'key': '17xOCrWgZwT4iAx-24NETw', 'doc_count': 2}, {'key': '1Gm0k-SzLB-jTZxVxuvcOg', 'doc_count': 2}, {'key': '1_ZVtdiZpBNsXaO4ObPtbw', 'doc_count': 2}, {'key': '1mP3Z77IcVdFiWvFXbfPug', 'doc_count': 2}, {'key': '1sRo-Cz5wOKKBleyH9ehmQ', 'doc_count': 2}, {'key': '1yrGx3Cwtj7I0zmhuVsu9Q', 'doc_count': 2}, {'key': '2CrM7eYAT_vnEQnd2zTf6Q', 'doc_count': 2}, {'key': '2FNL1n2LZHf8jAXwTDDNVw', 'doc_count': 2}, {'key': '2coic7DZlnlqVhblbEOpIA', 'doc_count': 2}, {'key': '2nUzpVFZVyGoD-RVhz-1KA', 'doc_count': 2}, {'key': '2np2bOL_PS0eNq260qLuMA', 'doc_count': 2}, {'key': '3JC-aE8_YI61MxDdKuGZwQ', 'doc_count': 2}, {'key': '4nDVM0XqWrcKQbMYlXDWCg', 'doc_count': 2}, {'key': '4r3Ck65DCG1T6gpWodPyrg', 'doc_count': 2}, {'key': '4xsJN2FuB94w9rMoMo6XFQ', 'doc_count': 2}, {'key': '511GEfvioA8THVB2JNQ4oQ', 'doc_count': 2}, {'key': '56TulnfOZy0JI96zwVv27w', 'doc_count': 2}, {'key': '56bt0NZeDOspJVflEi5VdA', 'doc_count': 2}, {'key': '5EpFbQKQEnTEPIdZkQDQiw', 'doc_count': 2}, {'key': '5FjDmwLx0sqTjyxfwatnIw', 'doc_count': 2}, {'key': '5TVWytR2oNbSKYgfxypuBw', 'doc_count': 2}, {'key': '5vqhAPukLZdPSc6YFrAWWw', 'doc_count': 2}, {'key': '6JbpUlDGZrdkvyS2Fwl1Iw', 'doc_count': 2}, {'key': '6frMyv7uy3EzvpFztir0Xg', 'doc_count': 2}, {'key': '6t0sNev22mcbvOB4gYVVOw', 'doc_count': 2}, {'key': '7I83yaco0OfOeBS9PSShvQ', 'doc_count': 2}, {'key': '7ZQYMFjKj7AK1vzCi0BNyg', 'doc_count': 2}, {'key': '7_YYjlT-qRP8h1IkpPWObw', 'doc_count': 2}, {'key': '7apWV3_bxbRcC2MemII9dQ', 'doc_count': 2}, {'key': '7qqlNBz6x6tiwoj0KhycwA', 'doc_count': 2}, {'key': '89COhCW-cAD5-fTXPfXYTw', 'doc_count': 2}, {'key': '8V9G6dC9sLCGp1LQVrmXwA', 'doc_count': 2}, {'key': '8vwdDagJc8bJR0ZojFGZxw', 'doc_count': 2}, {'key': '9kenOUYi5CogoYtmL8-1mA', 'doc_count': 2}, {'key': '9mB67Nq2Shvx5Y7Jn48-tw', 'doc_count': 2}, {'key': '9xywJ1otUCj1kjiUGHSJCg', 'doc_count': 2}, {'key': 'A-6gWCkrS7Asygt_qNwENw', 'doc_count': 2}, {'key': 'B9txxpWS2NP4SMhC3AdSug', 'doc_count': 2}, {'key': 'Bsvsz7kGUPdH7jDYEAwlfw', 'doc_count': 2}, {'key': 'BtROhQfrGdoWZ_t9zwEVUA', 'doc_count': 2}, {'key': 'C6KP0hSutumHzLDCFyjvJQ', 'doc_count': 2}, {'key': 'CCoArdXOGJjTgDVePAUrOA', 'doc_count': 2}, {'key': 'CW-wbGD-RNoxYTRqSIXojg', 'doc_count': 2}, {'key': 'ClfXYH4r8gchLtYI_1NvJw', 'doc_count': 2}, {'key': 'Ct6pupk8Cy6sI2mrIzF7UA', 'doc_count': 2}, {'key': 'Cu8aH9FWhQS2Qgca5NwkFg', 'doc_count': 2}, {'key': 'ELUxZOuHj2MrMXV3mg3zVQ', 'doc_count': 2}, {'key': 'ETsHfis7Dm932TS0dRjcoQ', 'doc_count': 2}, {'key': 'EmN6j5PKKUL7DkXnM267aQ', 'doc_count': 2}, {'key': 'EqxhaoiYFRle8l8QboJE1A', 'doc_count': 2}, {'key': 'F4gvookXrKsBNCvK_xEt1g', 'doc_count': 2}, {'key': 'Fgzz8pn5010raijd0ZgbhQ', 'doc_count': 2}, {'key': 'FmeoZuSHiV0eFrd5mF9DcQ', 'doc_count': 2}, {'key': 'FpwmIq3Gpo6hGIrOOv8lTw', 'doc_count': 2}, {'key': 'FryXEasH74MQDnj5Bvz3QA', 'doc_count': 2}, {'key': 'GfAy2HL_O5CuHQtumv6q0A', 'doc_count': 2}, {'key': 'Ghn6flCdNlOchzLA29tkjQ', 'doc_count': 2}, {'key': 'HKS-63JzfR0DMNVLBuokYw', 'doc_count': 2}, {'key': 'H_u6w1hM4WEgOD288i5edw', 'doc_count': 2}, {'key': 'HadzgmEdPY6n1a7Fz0WseA', 'doc_count': 2}, {'key': 'HzUJO2v5lUEIeYoOYsdWbw', 'doc_count': 2}, {'key': 'IO3apWfFnKPO2XRFmGfTEw', 'doc_count': 2}, {'key': 'IYzBKfT_JolGL-MA4STQYA', 'doc_count': 2}, {'key': 'I_3LMZ_1m2mzR0oLIOePIg', 'doc_count': 2}, {'key': 'In-yREw9ghzoU87MVKTtBw', 'doc_count': 2}, {'key': 'Jmlqb5UYfygtUXugrpywjg', 'doc_count': 2}, {'key': 'JmubyfPmoEk86QnBsdSrLQ', 'doc_count': 2}, {'key': 'K2DH_MEvB3Uozvuc4jvJQQ', 'doc_count': 2}, {'key': 'KnnADtzYoNL24DQ_M2DLcA', 'doc_count': 2}, {'key': 'LBBvTQNXwcH7IQPhpt1Pzw', 'doc_count': 2}, {'key': 'M0r9lUn2gLFYgIwIfG8-bQ', 'doc_count': 2}, {'key': 'M71p3ZZXypXaUmqVKAuZ9w', 'doc_count': 2}, {'key': 'Mr7Aov2n7wPCpwaUxk8lCw', 'doc_count': 2}, {'key': 'NUSp_d5o-_8INV_xBykUeg', 'doc_count': 2}, {'key': 'NV6zZPb5OGVpyX4JrSzUPg', 'doc_count': 2}, {'key': 'Nk4qSOwcVdAT1CMOzU3O0g', 'doc_count': 2}, {'key': 'Nxa362GcR1WWK2og8uJ_sQ', 'doc_count': 2}, {'key': 'OshZe8R4Zhcy-TsjK5vJdg', 'doc_count': 2}, {'key': 'P1W_Tmz-JXx2aOB3TSmGVw', 'doc_count': 2}, {'key': 'P7XX9Kf4-RxnkmUvrTQGLw', 'doc_count': 2}, {'key': 'PCN2FbrU-e0M2UPa8B3fsA', 'doc_count': 2}, {'key': 'PXCNGIxi_kQ5_V77j3FrNQ', 'doc_count': 2}, {'key': 'QqvMMaeNJqaEJihkhdYiAQ', 'doc_count': 2}, {'key': 'Qw2MYiQ11z1Zh5-UWCJOjg', 'doc_count': 2}, {'key': 'REH0_BWpYk5ynZsteu4uuw', 'doc_count': 2}, {'key': 'RJFTHQhIuYDcsGRjEUUMHA', 'doc_count': 2}, {'key': 'R_u4QTal0d5f-FHr7BUXcw', 'doc_count': 2}, {'key': 'Rq6G0fhJOTVg1p1Xo9r-Yw', 'doc_count': 2}, {'key': 'S07dMpp8f9x7etbGW1L0QA', 'doc_count': 2}, {'key': 'S26FJcC298XNpN2cZiwOrA', 'doc_count': 2}, {'key': 'S6gGcLs8yFpA-IqiXRtqMw', 'doc_count': 2}, {'key': 'SAOH3xlPy1sIs6SYuerdww', 'doc_count': 2}, {'key': 'SFN5g5eexukcaZkzoiYQYg', 'doc_count': 2}, {'key': 'SKLSw-Kwk9dwN_y_okAe2Q', 'doc_count': 2}, {'key': 'Sks1IMYoJd8pQj9uSfNYXA', 'doc_count': 2}, {'key': 'SyAYFxPBjuaHajx9iE7wLQ', 'doc_count': 2}, {'key': 'T6OyxncGstauWUNnLBcehQ', 'doc_count': 2}, {'key': 'TCrlNxAdFhgYQRhNGtRGcw', 'doc_count': 2}, {'key': 'Tm_CKv5VauVFUZIkndo_rQ', 'doc_count': 2}, {'key': 'ToH4z1F5Tyuo3p7VhXCpTA', 'doc_count': 2}, {'key': 'TwUo-tYJFesRoEG91AdFmg', 'doc_count': 2}, {'key': 'UAMFA32Bmz7Bc1DZ1fskUw', 'doc_count': 2}, {'key': 'U_0CCGhelqP-d2K1RiSJQQ', 'doc_count': 2}, {'key': 'VKC7v0O5mNli-hKmftRbaw', 'doc_count': 2}, {'key': 'VXR10qr90p0hTK0cmGWZhA', 'doc_count': 2}, {'key': 'W4JLP5jFlBh0LrmDYgzJUw', 'doc_count': 2}, {'key': 'W8TadKdJhJpFuHrAP5vS8Q', 'doc_count': 2}, {'key': 'WTPTuGK40bJc5H0UTMTWuw', 'doc_count': 2}, {'key': 'WYFbNrYDgw7gNDvMxa0rKA', 'doc_count': 2}, {'key': 'WnyiCJfpsl1RViIWafNwIA', 'doc_count': 2}, {'key': 'WvkWVFDeGd3llAdLhkHn9A', 'doc_count': 2}, {'key': 'YPTYOQO8Lg9BtHsRwYBY7g', 'doc_count': 2}, {'key': 'YV32ObbYe10BXeIydrnuOQ', 'doc_count': 2}, {'key': 'YpGPZ-Zg89BsFUWwCXoaBw', 'doc_count': 2}, {'key': 'Z9w4TYuAgv_sze1NOZ4uIA', 'doc_count': 2}, {'key': 'ZJ7j0RybxXFBst4Ur26UuA', 'doc_count': 2}, {'key': 'ZQIv6GEyNpSd0kGVU7UJHw', 'doc_count': 2}, {'key': '_-XYJgVGrNMtn_S6nPm-GQ', 'doc_count': 2}, {'key': '_aKr7POnacW_VizRKBpCiA', 'doc_count': 2}, {'key': '_cJyyX0BmgqV06Uc-Xwosw', 'doc_count': 2}, {'key': 'aM3gFY8Eq2KJuvNBlGPJEA', 'doc_count': 2}, {'key': 'bzJvdwBceD4bMnyRnUpFvw', 'doc_count': 2}, {'key': 'cBJDlgPptOmYqHhpha6bEw', 'doc_count': 2}, {'key': 'cf5vLyeHZ8EZzxD4SkUjVw', 'doc_count': 2}, {'key': 'd25F64cGmUUlr3z7KytQeQ', 'doc_count': 2}, {'key': 'digvt_7fV-AZFwt2Fp9Z-Q', 'doc_count': 2}, {'key': 'fAh1DvXplLu66urTBWSjaQ', 'doc_count': 2}, {'key': 'fC03dk7N8XV-RzGh0UJgmA', 'doc_count': 2}, {'key': 'fPYggpOpQq33onQAvOpwcw', 'doc_count': 2}, {'key': 'fdgh2G8VCj5hAOLX_g_yXw', 'doc_count': 2}, {'key': 'fzKngKvD8BIXTt3ZvmgFvg', 'doc_count': 2}, {'key': 'gSLWjGwRqXSq5HzsoP183g', 'doc_count': 2}, {'key': 'h_RQXD7IKwDkVU_n67UG4w', 'doc_count': 2}, {'key': 'hbs43HZRB1nwMzMtiT9lsQ', 'doc_count': 2}, {'key': 'hqF-uosThMtwGn4J_LfNPA', 'doc_count': 2}, {'key': 'ikONTzFKwachQtFtoMGeIQ', 'doc_count': 2}, {'key': 'jNl1J8EVcKY9TybC3NpivQ', 'doc_count': 2}, {'key': 'k1_j2d6W8Ij4FIAuYf7-rg', 'doc_count': 2}, {'key': 'lF69QF7j-BHpuTlOQkscTA', 'doc_count': 2}, {'key': 'lOZxgiTD0KBCaECdL1eWHA', 'doc_count': 2}, {'key': 'm0bREye3nKAWWItFxQkTdQ', 'doc_count': 2}, {'key': 'mUrkyChBfFC679O80poJAQ', 'doc_count': 2}, {'key': 'mY02hIpeZSVCaWObvvyECA', 'doc_count': 2}, {'key': 'nrt_kZKsirgTFB3JY_bKpQ', 'doc_count': 2}, {'key': 'oC91lprbbfzw7DOYiYln7Q', 'doc_count': 2}, {'key': 'oHvEgLH6pAkcrPmeR1l3UQ', 'doc_count': 2}, {'key': 'p6LTmQY2-y3jWGARBKfaSQ', 'doc_count': 2}, {'key': 'pMdU8zqjrmHn2LQvlF9rxA', 'doc_count': 2}, {'key': 'paBWJ6VBIy4-eXVH3iGFFA', 'doc_count': 2}, {'key': 'pzKjhaXh3vvZK_LTD5ubxQ', 'doc_count': 2}, {'key': 'q2rR-v9ZStix89t7ihyuqg', 'doc_count': 2}, {'key': 'qQSscPMhk3frtSNilF1cGA', 'doc_count': 2}, {'key': 'qSy3Ue3KlzFFXBKwZTbofg', 'doc_count': 2}, {'key': 'r9i_7k7E9mJb2LJPNY_4jA', 'doc_count': 2}, {'key': 'rtJv8aLpoTiQPkPSGwclWg', 'doc_count': 2}, {'key': 'sUc9743jIGkeTtwbYZQdEg', 'doc_count': 2}, {'key': 'tHKobCOXI4SCX9KJ_Ldcww', 'doc_count': 2}, {'key': 'tqHbdVDUbPub5l5_OcEWvQ', 'doc_count': 2}, {'key': 'v9WbtSRIwX7Ij6icFcqHrA', 'doc_count': 2}, {'key': 'wHpu5zH9VXbW82p5EGeAzg', 'doc_count': 2}, {'key': 'wK0aMaOKSYjvmtSQLNOaYA', 'doc_count': 2}, {'key': 'wQ9qT09OlsoMXEtGHqX0vA', 'doc_count': 2}, {'key': 'wc8RRSjR3rdLv255T0PrqA', 'doc_count': 2}, {'key': 'x2sLTY57QFvlfmt55mq3sg', 'doc_count': 2}, {'key': 'xBmLaYKPIzUnrdEpg5BLYw', 'doc_count': 2}, {'key': 'xbI-_66pG3Lzuuj4R4mONg', 'doc_count': 2}, {'key': 'ySWl63QyaEWJ0lSMFM6Pmg', 'doc_count': 2}, {'key': 'yV6JdDdTduK4oEN0TlNwAQ', 'doc_count': 2}, {'key': 'yjP-n5RpuxsDZZwxDg-FUg', 'doc_count': 2}, {'key': 'z96j_GQevSXIbYMXPAzczA', 'doc_count': 2}, {'key': 'zXRP6OokkwshzrrgrP2SBg', 'doc_count': 2}, {'key': '-6kIZWnXPuDC6JiQJ-A1fg', 'doc_count': 1}, {'key': '-FbTCbFUAE61n9bwdfsFIw', 'doc_count': 1}, {'key': '-K0zTgGyxo-AeSkcV0IVaA', 'doc_count': 1}, {'key': '-M21d-vRVRaTyVywy8x-Ag', 'doc_count': 1}, {'key': '-PKjA_-bWOD0zj2SPH3ZLA', 'doc_count': 1}, {'key': '-WXmyccE1YUqO3mA3Uu1Xw', 'doc_count': 1}, {'key': '-kqjc8DxxRac4cz2qTKCLw', 'doc_count': 1}, {'key': '-q4YqKsWJY6NtkQdnNeL1Q', 'doc_count': 1}, {'key': '07Ypw3YPZtQ1rFZnCueeuw', 'doc_count': 1}, {'key': '08q4nEOcz9hc1lRW7UPOng', 'doc_count': 1}, {'key': '0BoRHt9GuiXzmvNmrBVMOw', 'doc_count': 1}, {'key': '0HZEzKR6Z3Cze7EJI8U5TA', 'doc_count': 1}, {'key': '0S6OwdpZVlg7YmdEw5fO8A', 'doc_count': 1}, {'key': '0Sm2vdDInZoTnWLYyRM46Q', 'doc_count': 1}, {'key': '0ctfzwGwE7nxXpAijy_ahg', 'doc_count': 1}, {'key': '0gDuVXKohD3hfrryK9tEOQ', 'doc_count': 1}, {'key': '0vj-32tNtrQ98SX8oCG60w', 'doc_count': 1}, {'key': '10TY8uTbMK-yG9MR8wlx3w', 'doc_count': 1}, {'key': '18iMG9wb7i2ydG_Tra4GCA', 'doc_count': 1}, {'key': '1EjtzJAIkZpTDE4RG0GP_A', 'doc_count': 1}, {'key': '1Ly-Njk6U0kEq3TFnCgeWw', 'doc_count': 1}, {'key': '1Mc_Reqnxhs0eHQFAhXVUQ', 'doc_count': 1}, {'key': '1_BVWDzi5cVqWxNe9bOMMQ', 'doc_count': 1}, {'key': '1gRA60wSskoLvkiC8sylWg', 'doc_count': 1}, {'key': '1oDLf788824qQh-8Shl3sw', 'doc_count': 1}, {'key': '1r3ESnezvx0V17Hhn-JelA', 'doc_count': 1}, {'key': '25QCMQkYrl5przcOTF7s8w', 'doc_count': 1}, {'key': '2EWsaJdeedx_-my5fYEg9A', 'doc_count': 1}, {'key': '2IahpaBR4U2Kdy9HF28EQA', 'doc_count': 1}, {'key': '2Mp3YflkEmA3ELaZB7AhHg', 'doc_count': 1}, {'key': '2PeuTPjcC5jEyrMt9o-w7w', 'doc_count': 1}, {'key': '2QzDTPkjl6efJbKHU0jKkA', 'doc_count': 1}, {'key': '2VO-zlWWuqwP_8WPbEDWgA', 'doc_count': 1}, {'key': '2gi23-n_4fTU11olohHxrg', 'doc_count': 1}, {'key': '2p5TB4Jd4Pas1oAvfoAzkw', 'doc_count': 1}, {'key': '2zJ3Wgl5AJBtj24T3dPqTQ', 'doc_count': 1}, {'key': '2zscMai3s2qePfovwetPcg', 'doc_count': 1}, {'key': '34Ex1E6_vSo109uglxEdlw', 'doc_count': 1}, {'key': '39gKGc6lMs2Lk9-_v-9uKQ', 'doc_count': 1}, {'key': '3JdS_p-2vpKtgNu_R_vSYA', 'doc_count': 1}, {'key': '3S2NV4PANuPnqlM6VDS5Fw', 'doc_count': 1}, {'key': '3SM8uaMuDqojb9gnrBoBAQ', 'doc_count': 1}, {'key': '3XirYkP9PJvVXIEDPNNXLA', 'doc_count': 1}, {'key': '3Ym00dQ_oqZ0zunGMLhX3Q', 'doc_count': 1}, {'key': '3oY-04WH9B2MXTK81ADRig', 'doc_count': 1}, {'key': '3qiHeiMr-6D1Yp-DbOeJhA', 'doc_count': 1}, {'key': '3y6GWhwZsNshAcy3wShT6A', 'doc_count': 1}, {'key': '4-TEVGMI3K7aVpPqcQ1vkQ', 'doc_count': 1}, {'key': '40ovn6SAc5c7v84bRzpB2Q', 'doc_count': 1}, {'key': '4DHKg7ud2JyFA9piowdO4Q', 'doc_count': 1}, {'key': '4L3H1qoXDl9Ly00raCLnTw', 'doc_count': 1}, {'key': '4MobfSS7qIOr_GsWJ0j6jw', 'doc_count': 1}, {'key': '4ZNCc1GzJZkS7XI1c9rCMA', 'doc_count': 1}, {'key': '4ZaYKh2zZsSFSvcNM9zwFg', 'doc_count': 1}, {'key': '4eLkFeklpvLWrs1wJP8F5A', 'doc_count': 1}, {'key': '4eMPCRzDYMUHbDrJMp-HdQ', 'doc_count': 1}, {'key': '4gaAipahj9uderijE8hvHg', 'doc_count': 1}, {'key': '4lm1dUvP7GPgyJqUlLxcYg', 'doc_count': 1}, {'key': '4mGnHfvwjE6P-vuKowHzCQ', 'doc_count': 1}, {'key': '4oe5dLfE283zx0aw6BHKTA', 'doc_count': 1}, {'key': '4sJfubi9zscFz4aN68VSig', 'doc_count': 1}, {'key': '4uZUHjSonatwt-02yqJp6w', 'doc_count': 1}, {'key': '4xEJiEQERBvr2jAZQSeF2g', 'doc_count': 1}, {'key': '56M2bwaaSzcmzr2dyEfYQw', 'doc_count': 1}, {'key': '5CxRk4cgTSY9MjxpBpAZeQ', 'doc_count': 1}, {'key': '5Xo-t7iLSoa00o4b5vrWRQ', 'doc_count': 1}, {'key': '5b8GtUxDTkcuA-3EubpfpA', 'doc_count': 1}, {'key': '5do_HLD3bwfYIJq0nOO-PA', 'doc_count': 1}, {'key': '5p27FvnOgrDs-i6dHccC0g', 'doc_count': 1}, {'key': '5tZJaEsvEDowvbAtL8Jfig', 'doc_count': 1}, {'key': '610aROmrY10c6xLN7U8ebA', 'doc_count': 1}, {'key': '69PsM9hXDrOf5LH7ssqV-w', 'doc_count': 1}, {'key': '6CBVDt_oDbcGTRJFeD-PEA', 'doc_count': 1}, {'key': '6Euj8bfFJ4aQ_cCi7aMWCw', 'doc_count': 1}, {'key': '6FvC6w810uf6O7Ocd6Wpog', 'doc_count': 1}, {'key': '6Vnoah8cca3KC4CdSu-eaA', 'doc_count': 1}, {'key': '6d6LZpj2nlKyyqDHG32o-Q', 'doc_count': 1}, {'key': '6ro0Uy6TCDZ-R3a90Dnt6w', 'doc_count': 1}, {'key': '71UMJqpbiMUuHe8iA7SkVw', 'doc_count': 1}, {'key': '73ZXjIfdHJs59XOzKHQ45g', 'doc_count': 1}, {'key': '78Z_nKGG4IjHw-yVCQbLYA', 'doc_count': 1}, {'key': '79nXYNRPoZBc9_y_OLZg2w', 'doc_count': 1}, {'key': '7Dbd0-5Jq-5vAR4fRqbIzQ', 'doc_count': 1}, {'key': '7ZQoGrpdXrRAbVcm1jDSow', 'doc_count': 1}, {'key': '7hRaOnXRRS8q620F6G4C7Q', 'doc_count': 1}, {'key': '7m9QY137WtxvdhgSUdetaw', 'doc_count': 1}, {'key': '7p69Uapi-W7ZRAaj_i22rA', 'doc_count': 1}, {'key': '7qMmN_FB0JJ-8MPNfHwhsA', 'doc_count': 1}, {'key': '7sV9quynaXTvDW85Bixhaw', 'doc_count': 1}, {'key': '7yL3nn3JvRF7upVUObERxQ', 'doc_count': 1}, {'key': '80IusU4TaqWPRMmZ0uZGUA', 'doc_count': 1}, {'key': '8NGxdDjUnNr_7ZnAWk_cRw', 'doc_count': 1}, {'key': '8NKKQv7GL-S3je-A2IQThA', 'doc_count': 1}, {'key': '8O35ji_yOMVJmZ6bl96yhQ', 'doc_count': 1}, {'key': '8UsBkPCDyBIR8xgIA9Moiw', 'doc_count': 1}, {'key': '8XShad-H8bEr_p2GwFIoiQ', 'doc_count': 1}, {'key': '8YDJraW_cg5IPTPisPfB-A', 'doc_count': 1}, {'key': '8ZFC_TnP_hAsn0rgoK7KAA', 'doc_count': 1}, {'key': '8eyd9p6mQgucwBnaQE8qzw', 'doc_count': 1}, {'key': '8hno9fk-l7r5r8HdouKoew', 'doc_count': 1}, {'key': '8kofHeL-JyDwzzrw6pO_LQ', 'doc_count': 1}, {'key': '8n9SibOxPjKn9LwtTBkDWQ', 'doc_count': 1}, {'key': '8owsnyy3mAeVLlYQWD0WYg', 'doc_count': 1}, {'key': '8s1smKWPOjkSSMVrRn_nQA', 'doc_count': 1}, {'key': '8uv9atXaYI01R3Cr2Ttepw', 'doc_count': 1}, {'key': '91vP2e7AIvTRNPErOkKZYQ', 'doc_count': 1}, {'key': '93gojqzG62KrSqHwmm2MBw', 'doc_count': 1}, {'key': '95Ovc1lSnOQwSrjIFhpYrA', 'doc_count': 1}, {'key': '9GdGe93oLy8MTtmEsfmgEg', 'doc_count': 1}, {'key': '9I3Wn_NX4LIvBmH38Lq_DQ', 'doc_count': 1}, {'key': '9QWKe2XW1t3STnQBOgCXQA', 'doc_count': 1}, {'key': '9ggEjIh9yebdA_cskKym8w', 'doc_count': 1}, {'key': '9vRUeYP5iTr0-uYMCD3TCg', 'doc_count': 1}, {'key': '9ycb4phY8qbaLcloDhmbNg', 'doc_count': 1}, {'key': 'A0koFivZbUeUaR4x4HqQ5A', 'doc_count': 1}, {'key': 'A1suinq7EcpyM06JIe7iOA', 'doc_count': 1}, {'key': 'A4-2jEraYJ2w2grn_uXlHw', 'doc_count': 1}, {'key': 'A5b9nVDi1DPVvPOD24-p6w', 'doc_count': 1}, {'key': 'AExZ7MJ1lFTSQHqv8yVG3Q', 'doc_count': 1}, {'key': 'ANTj0UD-OS7Zod3mulUg6w', 'doc_count': 1}, {'key': 'AWN5UYfF-nto6XihHc2dIA', 'doc_count': 1}, {'key': 'AegBDOGq8gbixKBb-UfO6w', 'doc_count': 1}, {'key': 'AfJKQfEbFbp_RnLlRY4Dow', 'doc_count': 1}, {'key': 'AjxjKRNin477A7nKAZciGg', 'doc_count': 1}, {'key': 'AmS4jlZqK09tCVfzULubHA', 'doc_count': 1}, {'key': 'Ascp7b98CN6pMAydXeVXaA', 'doc_count': 1}, {'key': 'AtQLrRpQan7UtJcIAo9hsA', 'doc_count': 1}, {'key': 'AvSodGqXo5FUPeXiELv18Q', 'doc_count': 1}, {'key': 'AyaHKopQoc6S2EOlW9qzUQ', 'doc_count': 1}, {'key': 'BCPpFA_h3l4F73H7ouLrbQ', 'doc_count': 1}, {'key': 'BLvL1pUrgpzt2bJHRQ5yvQ', 'doc_count': 1}, {'key': 'BOjpe0u5u_cm9SWMS2KLFg', 'doc_count': 1}, {'key': 'BfFcKkGmAsGEUTMIg0z7EA', 'doc_count': 1}, {'key': 'BmKCJsV_payJ5ANqC7i85g', 'doc_count': 1}, {'key': 'BtTVHiY1AH5iHzTlx5HqZw', 'doc_count': 1}, {'key': 'Bv1eO5cFOGO2SEUzBXNb-w', 'doc_count': 1}, {'key': 'C2zRStcAaqVUFqiYCVFjVQ', 'doc_count': 1}, {'key': 'C925zLMJaPWOFqpJmXvuBg', 'doc_count': 1}, {'key': 'CBWmYHLgtFrOJs7SCcQn0g', 'doc_count': 1}, {'key': 'CJHOS7U02RWJZse2dwhO6A', 'doc_count': 1}, {'key': 'CQr5mbLHIEJdYL8F-snsOw', 'doc_count': 1}, {'key': 'CRlvaydYKGayTpkM-FeT3g', 'doc_count': 1}, {'key': 'CYkMS0EFZ02405OnTVairg', 'doc_count': 1}, {'key': 'Cif0rojpc65uk8YZCWXRrw', 'doc_count': 1}, {'key': 'CueuRgYurL6IBGybuvQN6w', 'doc_count': 1}, {'key': 'D0Tff4qaTkhfSoupcICYCg', 'doc_count': 1}, {'key': 'D2Sx5wCfvJrNWKl_3ZL1hw', 'doc_count': 1}, {'key': 'D3DMIr-I0AKzlIKdErxHGg', 'doc_count': 1}, {'key': 'D4n4j_pBOhDJB6u1LRFaew', 'doc_count': 1}, {'key': 'D9_Lp5-l3kSgLHhXm2Gfvw', 'doc_count': 1}, {'key': 'DLq1EGjBgwl5UMNrMIGp5Q', 'doc_count': 1}, {'key': 'DU7ylbnVarO5dENtOPAGkw', 'doc_count': 1}, {'key': 'D_yOtY3N32iXf9RqelHVlw', 'doc_count': 1}, {'key': 'Ddu6G10ZA6OdkU6z3Hz-2w', 'doc_count': 1}, {'key': 'DgLwvHu6wNt2SrFvE5xxHQ', 'doc_count': 1}, {'key': 'Dhv16f7ptt0aAGsb_L296w', 'doc_count': 1}, {'key': 'DkkosGugBW5g8h2k-elPxw', 'doc_count': 1}, {'key': 'DnJhwMa-5nPCNkl0ddqscg', 'doc_count': 1}, {'key': 'Dq1nXxrAHZQkiQuZWLajQA', 'doc_count': 1}, {'key': 'Dty7fGIonmXOmvZhnMAOQQ', 'doc_count': 1}, {'key': 'E0bcgGtrqne4MS7wt99SVA', 'doc_count': 1}, {'key': 'E359ITHKa9CVe9cTOofZUQ', 'doc_count': 1}, {'key': 'EF_9W5s9lFSjv4forNxwng', 'doc_count': 1}, {'key': 'EZIhpa5qcVcyED575S8BSw', 'doc_count': 1}, {'key': 'EjZsjAsSWN_2xvkKZqGUAA', 'doc_count': 1}, {'key': 'EnLLksrGdqMgOOAu9rNtJg', 'doc_count': 1}, {'key': 'EpREWeEpmR8f1qLHzzF0AA', 'doc_count': 1}, {'key': 'EqUsSlv2L7UIkZtgX8C8nQ', 'doc_count': 1}, {'key': 'EyBlARgBUFBu6ZYS9wENyg', 'doc_count': 1}, {'key': 'F-j6PNGnA8yz77oIZMcPMA', 'doc_count': 1}, {'key': 'F0Q9o6yuYh8f0DYl1RFjxQ', 'doc_count': 1}, {'key': 'F6AoDmZ3LVXKOMsWhjSqDw', 'doc_count': 1}, {'key': 'FKRUocue-_O2ITGumaCKOw', 'doc_count': 1}, {'key': 'FP0_bqN8EF_3-zMFRbUofg', 'doc_count': 1}, {'key': 'FQexbHk0m-AFVUUqjbeYYg', 'doc_count': 1}, {'key': 'FgdCAjV5Lud_jKCAKyK4Og', 'doc_count': 1}, {'key': 'FqWfoUuZHK_w-ov5f5NlhA', 'doc_count': 1}, {'key': 'G503RdNVGztzLuBfNY4l3A', 'doc_count': 1}, {'key': 'G8VmPCgzIvbhPga7a1r3Pg', 'doc_count': 1}, {'key': 'GEeEpDW7codP5fI_Xbu2IQ', 'doc_count': 1}, {'key': 'GJnYFvk9kbM182bKMFSAvg', 'doc_count': 1}, {'key': 'GMP7i0GnMVt9Xp0dnB2muw', 'doc_count': 1}, {'key': 'GU3yKiycK8P4Q_TMGJbj_A', 'doc_count': 1}, {'key': 'GlUp8Ls2x2vToByiAtSnYw', 'doc_count': 1}, {'key': 'GpR84OYZ20bd_e4VBW6m3Q', 'doc_count': 1}, {'key': 'GuGlXaVDljVJ9FM-euhJmg', 'doc_count': 1}, {'key': 'GuHvOgWX4LaVYhSjyuGvyA', 'doc_count': 1}, {'key': 'H3mw9tUmKC6bYnAS1g4ANQ', 'doc_count': 1}, {'key': 'HCYs4zgL7kCLdEqKRqaPbg', 'doc_count': 1}, {'key': 'HYnVng9EYOckm4cp_2QPjQ', 'doc_count': 1}, {'key': 'Hh-Fx4XKNghlHBC8CVD0OQ', 'doc_count': 1}, {'key': 'HnpIrH31GUZSXjW3ks-dhA', 'doc_count': 1}, {'key': 'HoeSXXUKQIxhAW9JBldKXA', 'doc_count': 1}, {'key': 'HsMr8L-mNuY0ZANik7baVw', 'doc_count': 1}, {'key': 'Hu2ZCKX6OSOXGmDcEhN3Xg', 'doc_count': 1}, {'key': 'I13c2-Yo7hn2BKwCI81HSQ', 'doc_count': 1}, {'key': 'IED_PMc7gbscojJjKpSxhw', 'doc_count': 1}, {'key': 'IFKCqDKdrAOtph_TEi8ycw', 'doc_count': 1}, {'key': 'IHZog8jSEhB8fLkr2EeA2A', 'doc_count': 1}, {'key': 'INipigXTZ3kTbNjKH_M8Hg', 'doc_count': 1}, {'key': 'IOgIWV-L6OppNFOju9j8Nw', 'doc_count': 1}, {'key': 'ISDVzdF4WZ4SXQdhyet9nQ', 'doc_count': 1}, {'key': 'IZv79jZv6el1sBHrG7426g', 'doc_count': 1}, {'key': 'IdIOZSbnLRcN1dG5PDXDeA', 'doc_count': 1}, {'key': 'Iv8-bf_PC-wGn5alDpaABg', 'doc_count': 1}, {'key': 'IzYE3fXqNgHIOFmY7nVQvA', 'doc_count': 1}, {'key': 'J-ECIXWZKv_0DfovD0zqfQ', 'doc_count': 1}, {'key': 'J8b-_Xn2_K4kfaSgUqNRVw', 'doc_count': 1}, {'key': 'JPENuvcp3Zm0O5Fb6EsZTA', 'doc_count': 1}, {'key': 'JPTxxPgVUEkb9BJlO6PAhw', 'doc_count': 1}, {'key': 'JaMZoosomwX7DDjkFOEo3g', 'doc_count': 1}, {'key': 'JgTSG4rIDf20Kgp6U_asng', 'doc_count': 1}, {'key': 'JkBiCY04rSSAa7qrawqUsg', 'doc_count': 1}, {'key': 'K38t-YmXMDPShYCNzpGrKA', 'doc_count': 1}, {'key': 'K6XWaJkcMhayiZxlTVX-Ag', 'doc_count': 1}, {'key': 'K75cFyRvLFdYgzCvq2OOlQ', 'doc_count': 1}, {'key': 'KChWMIHxMChTE11ZVsIVZw', 'doc_count': 1}, {'key': 'KR3JxgQ4ZhcqUC6aNsUCEA', 'doc_count': 1}, {'key': 'KRbH_2cg5qiIKkUVfMBiAQ', 'doc_count': 1}, {'key': 'KVrJDflgstN3qrDI6tFNbQ', 'doc_count': 1}, {'key': 'KWIapYSSHxfZ1NQFpV2S9g', 'doc_count': 1}, {'key': 'KcONt70c8QhHLyXStpWTdw', 'doc_count': 1}, {'key': 'KhKcgF3zi6J_M6HBzkFkLg', 'doc_count': 1}, {'key': 'KuY5Kw2r386QVsuGwOIgkQ', 'doc_count': 1}, {'key': 'L9sNYgV-TKTQdkaeEZBqEg', 'doc_count': 1}, {'key': 'LG0qzaGHTp3_8vpEqvV9Dw', 'doc_count': 1}, {'key': 'LGYIhGqbYakMMdsn_GCzJg', 'doc_count': 1}, {'key': 'LPzt4zjwSSJnqmhFIyx-bA', 'doc_count': 1}, {'key': 'LTTRaIO-p4zjvXtw9zm1Wg', 'doc_count': 1}, {'key': 'LVgJDRNT7XE-IpfDlP0WAQ', 'doc_count': 1}, {'key': 'LXtmmAiQjiMzUiZGCqYutQ', 'doc_count': 1}, {'key': 'LmgXxYwF68UMc4duli2NkQ', 'doc_count': 1}, {'key': 'Lpuvf-1pHW1Roh6bPm1fPw', 'doc_count': 1}, {'key': 'LrE6EdvdgKDpqOS1IMjcHQ', 'doc_count': 1}, {'key': 'M4ME5ir-QwnRdM4fhjZtTA', 'doc_count': 1}, {'key': 'MHqeqoJEjsTHivmuXOW4iQ', 'doc_count': 1}, {'key': 'MT7IZwROgzr0HgJHHxBaMA', 'doc_count': 1}, {'key': 'MTwOdPHPy9bmWMW6C7mOtQ', 'doc_count': 1}, {'key': 'MaMHdH83puh8xJVAMHCkRg', 'doc_count': 1}, {'key': 'MaYb7qMN6BomP1zQGj3Wjg', 'doc_count': 1}, {'key': 'MayvKOLab90BQCFrZyALuw', 'doc_count': 1}, {'key': 'Mbw4k4aj1ce5Gy0c51LLAw', 'doc_count': 1}, {'key': 'McviClb5mqes4wLF7Y-tUQ', 'doc_count': 1}, {'key': 'Mlh_VH3ZVbxMn9NXYcRRAw', 'doc_count': 1}, {'key': 'Mp7yGJ3nDhD_5EjBFitY1w', 'doc_count': 1}, {'key': 'Mqsv-hb5tuhbWgdkdwcGpA', 'doc_count': 1}, {'key': 'Mri3RA95bVlSG5F8-pUfiA', 'doc_count': 1}, {'key': 'MuKoTR56s6elHEI2wUkgJA', 'doc_count': 1}, {'key': 'N2pULwcdouGh3HwmMO67SA', 'doc_count': 1}, {'key': 'N9tY2WK0DaTf8O-Pkg5d9Q', 'doc_count': 1}, {'key': 'NBQ3cohPneJe1I40O9QGuw', 'doc_count': 1}, {'key': 'NJaR_2hke7NNAC6l1Ohr8g', 'doc_count': 1}, {'key': 'NY_sXepAjc83v58_1w_T_A', 'doc_count': 1}, {'key': 'NfUKLEcnR5c0cLnztw19IA', 'doc_count': 1}, {'key': 'NgMJ4gseQr-CxZt01eDIBA', 'doc_count': 1}, {'key': 'Nhb33fMegsDwKrN3Sxgkng', 'doc_count': 1}, {'key': 'NiljjvbIIzQPxIPqeLLg2Q', 'doc_count': 1}, {'key': 'Nn6Vx_Bl48EEgMEskwRQfQ', 'doc_count': 1}, {'key': 'Nq1Kn7ud84upBHz9chFW0A', 'doc_count': 1}, {'key': 'Nsg3mBLqXJqKY1yYILe7Dw', 'doc_count': 1}, {'key': 'Nssa2tsfDlSdiURc_0qDFg', 'doc_count': 1}, {'key': 'O6M_pALqB_nf2OrKSpuqzQ', 'doc_count': 1}, {'key': 'OPudeK4sPDmA1y3BB7-90w', 'doc_count': 1}, {'key': 'OU3wbKOPQRYC1j1N6ZWMcA', 'doc_count': 1}, {'key': 'OXDo1mHlp2Io3CM6a1aB1w', 'doc_count': 1}, {'key': 'O_0H42Bw8hBduWSADPG8ng', 'doc_count': 1}, {'key': 'Ocxeap3UMNx1bbH_URlhdg', 'doc_count': 1}, {'key': 'OiEsbS3bLm1gXK7k9kBu1Q', 'doc_count': 1}, {'key': 'Oo0nT3n5Gdocq6j4WXN4Ng', 'doc_count': 1}, {'key': 'OrgT05tCfUi88UAmzzqioA', 'doc_count': 1}, {'key': 'Owo5es5l2zcGq9e9T1sgIg', 'doc_count': 1}, {'key': 'P-rEyB0Pdf45rBqQFI-9xw', 'doc_count': 1}, {'key': 'P1rfYX62C_HD4t3TjO41BQ', 'doc_count': 1}, {'key': 'P6SiaPYpbduSSKt6lOAkuA', 'doc_count': 1}, {'key': 'P8OXsO0c55bphS3bhrZI8Q', 'doc_count': 1}, {'key': 'PIKeisfoas9HKgKztMG3BA', 'doc_count': 1}, {'key': 'PKugkEPK9A2J51CB9Dsgug', 'doc_count': 1}, {'key': 'PKv1r4mm2_WAbzuor_QNYg', 'doc_count': 1}, {'key': 'PXdO8Kt3SEljmUOxhK2iAQ', 'doc_count': 1}, {'key': 'PaGtsQuCdd1KWxX1yGCN0Q', 'doc_count': 1}, {'key': 'Q9iSyEPYLkm3xaInQRaULA', 'doc_count': 1}, {'key': 'QAdaeyJlY8deDP_QbN9ycA', 'doc_count': 1}, {'key': 'QBr5lv1G-017qXzX0lBiOg', 'doc_count': 1}, {'key': 'QH80jlBg7ZdzNOMtYhi6fA', 'doc_count': 1}, {'key': 'QHccEcja9h1Wk0b1wWBnxg', 'doc_count': 1}, {'key': 'QLQh6vRpneOaWFntly0wSw', 'doc_count': 1}, {'key': 'QOZPLZ0AhdYAXOVxmzniJA', 'doc_count': 1}, {'key': 'QVXfW1c8eOm9SJVb3xdo7w', 'doc_count': 1}, {'key': 'QWENxNxNNW2jhQi2akONJA', 'doc_count': 1}, {'key': 'QaOTMn7BVBx3xXrjRlVnCw', 'doc_count': 1}, {'key': 'QrO4-F28JK4mQLP3eDbQ0A', 'doc_count': 1}, {'key': 'R6G_mnVjK4yZQm_bJeYDCg', 'doc_count': 1}, {'key': 'RDDExHjCAzhGFfqk7m5UoA', 'doc_count': 1}, {'key': 'RZkWR0qkcqiwoBq4NGOnDg', 'doc_count': 1}, {'key': 'R_J3B7usj-NDHm_wNFSa0w', 'doc_count': 1}, {'key': 'RaoPpLQjYoO6yjN9L1CQpw', 'doc_count': 1}, {'key': 'RgAUDZXDJYwz7BI6u9aP5w', 'doc_count': 1}, {'key': 'RwOV1rfT7vA1qw8vgf-yBA', 'doc_count': 1}, {'key': 'RyLYPpmx-befoiSEnsZ1fQ', 'doc_count': 1}, {'key': 'S0UJxUiqCsT6VHbKGPn-UQ', 'doc_count': 1}, {'key': 'S1UsCmC819tAxqPkC6kpsQ', 'doc_count': 1}, {'key': 'S6tR7vBAg-3b9mGLB13-Ug', 'doc_count': 1}, {'key': 'S9aJdWkINS1NzQhvRr7sqg', 'doc_count': 1}, {'key': 'SLN5VjHQ3bdFvTHyXO0i7A', 'doc_count': 1}, {'key': 'SMhiTNerMZVeH-L56thOBg', 'doc_count': 1}, {'key': 'SSZDGl2J-CEyIzuIbEiYNQ', 'doc_count': 1}, {'key': 'SXpqt6frxtAy07C7EFb8bg', 'doc_count': 1}, {'key': 'SkEr3iGr9x5aw7Dh5bOtxg', 'doc_count': 1}, {'key': 'Szw67bawbVHCY6Jqhw93GA', 'doc_count': 1}, {'key': 'TDmcgUZFHC5EECpSxqfgkQ', 'doc_count': 1}, {'key': 'TIGOlkeBefuEC4TxfueJEA', 'doc_count': 1}, {'key': 'TR8sAbY5sYdQJTx-GOGMNA', 'doc_count': 1}, {'key': 'TRxR32_T_7Ly_RW4Ke97fw', 'doc_count': 1}, {'key': 'TTRc5cQIXzZ8jlKhSB4gLA', 'doc_count': 1}, {'key': 'TVQO06vjSH7S7hiDiyuisw', 'doc_count': 1}, {'key': 'TXfwLt6sKVneu9hEsBOZ_A', 'doc_count': 1}, {'key': 'ThpNtCxktDMcnfLJR5fTNA', 'doc_count': 1}, {'key': 'TkP1Oy-ZUiBHD3ib9yJ25Q', 'doc_count': 1}, {'key': 'TuvQDUs25_mvP2jD1ZP5Vw', 'doc_count': 1}, {'key': 'U00LMGWuM4nf9TqxFU1vRw', 'doc_count': 1}, {'key': 'UM6XgOtTX4DWWcGDTWtjEg', 'doc_count': 1}, {'key': 'UNXK0-f8A7eMctkL1bTJsw', 'doc_count': 1}, {'key': 'URURwZcedT6sAXbeTuxgOA', 'doc_count': 1}, {'key': 'UYTlInm16lLMk-CrCq43RA', 'doc_count': 1}, {'key': 'Ue-CsFvn92aYb0Aj6c5TKw', 'doc_count': 1}, {'key': 'UiZ2-Zq1SqZAC5HnfNNZFA', 'doc_count': 1}, {'key': 'Uy0r4bzRmY5LFtDfzNgkag', 'doc_count': 1}, {'key': 'VHGAlhyKKnipe0Ck5yBglA', 'doc_count': 1}, {'key': 'VJ-c-Yjj1qv7dKS5YaYoHg', 'doc_count': 1}, {'key': 'VO_MNlz8rXOAsToaaaP1Kg', 'doc_count': 1}, {'key': 'VPM9GraTTl01jhubiDAAyQ', 'doc_count': 1}, {'key': 'VQC5whJNU6Nia95jpz927A', 'doc_count': 1}, {'key': 'VUkBbffnuUpKX9MKRUt4yQ', 'doc_count': 1}, {'key': 'VgGITb54IIb1G0gSVt3gkw', 'doc_count': 1}, {'key': 'VoWTUhG2OfLWFUTM1HoeVw', 'doc_count': 1}, {'key': 'VpJzlz3bKOJtiI1rb9kTpw', 'doc_count': 1}, {'key': 'Vu2djPjI3oJG61maiFJ81w', 'doc_count': 1}, {'key': 'W01WtvzePJomYmSwetsubQ', 'doc_count': 1}, {'key': 'W1F2yBtWr3cBTI2-1tti6Q', 'doc_count': 1}, {'key': 'WCdSajl5Q0qywpv7K5jHdQ', 'doc_count': 1}, {'key': 'WDOjluN4QeTnjt4E6DmIYQ', 'doc_count': 1}, {'key': 'WEleUrOfjE_yFNlyBOnZOQ', 'doc_count': 1}, {'key': 'WHLM6UhwSV0tN3CrmSgsUA', 'doc_count': 1}, {'key': 'WN4vWgb7tmm-N7rdjFwJVw', 'doc_count': 1}, {'key': 'WXNag-tmudrFHFlfNLogWg', 'doc_count': 1}, {'key': 'WY0ji9m-qAOc_6lK8h4pNw', 'doc_count': 1}, {'key': 'WgHEq9HR9yj6KvOdObvyaw', 'doc_count': 1}, {'key': 'Wxh9C-sHTftmRepuuigIgg', 'doc_count': 1}, {'key': 'WzpWEuVWY-6Xh37wc44GiA', 'doc_count': 1}, {'key': 'X4-bjIPc8UboGio2ZJS_yA', 'doc_count': 1}, {'key': 'X7yGrz7oDbt8UY5rdmJc_w', 'doc_count': 1}, {'key': 'XAAKCdk7KU5qLA42r6F4pw', 'doc_count': 1}, {'key': 'XAaXtqL1_HsI2t6FEIrA8Q', 'doc_count': 1}, {'key': 'XDS9JnP38QrjOLd46NCPzg', 'doc_count': 1}, {'key': 'XHbaHX2uBGIn3uw37jl7Og', 'doc_count': 1}, {'key': 'XTxp11CycW_u675Xg0igJw', 'doc_count': 1}, {'key': 'XWoGfbjiWCiciUgXEJzKpA', 'doc_count': 1}, {'key': 'XmpbEmS7PRdg5sIbGpjt7g', 'doc_count': 1}, {'key': 'XuZ0PjtRiRCIOpzWTtQ-Vg', 'doc_count': 1}, {'key': 'XvASx-NBLP8yV4hDlNnUMg', 'doc_count': 1}, {'key': 'XvjJflV_0I1CS0_dckuV-A', 'doc_count': 1}, {'key': 'Y96EQkift7F1UiMRPaaiJw', 'doc_count': 1}, {'key': 'YJ-sr_YVhnsZaBl-j9tjCg', 'doc_count': 1}, {'key': 'YJWTfg39ZiOcs5VCBCzBlQ', 'doc_count': 1}, {'key': 'YMjS9GyClQ9XO2GKhvs39A', 'doc_count': 1}, {'key': 'YNVPTAR3hw-tsmq3AZhLhg', 'doc_count': 1}, {'key': 'YSVcrRynKPqAglI00RN9xg', 'doc_count': 1}, {'key': 'YSgcojsb2kWHXNLWaGCuBA', 'doc_count': 1}, {'key': 'YT1oM3AlNSCjzKvbH8MPWA', 'doc_count': 1}, {'key': 'YUDaY-Jx-qFXDrbpkri9ZA', 'doc_count': 1}, {'key': 'YYqRjbCVyoRfTV1R16eqxw', 'doc_count': 1}, {'key': 'YbkD76a_vnGYpMrFLETIyA', 'doc_count': 1}, {'key': 'YhFd_8UtM_89Vb8GIMZgxQ', 'doc_count': 1}, {'key': 'Ytp6XpvKFseskYaFbn8wKg', 'doc_count': 1}, {'key': 'Yu3z-6kGRTYg82F7wRmvPA', 'doc_count': 1}, {'key': 'Yvft9JHTRTIB2bgs4OZxsA', 'doc_count': 1}, {'key': 'Yz4BD3vf8-d14j2T2FgYxA', 'doc_count': 1}, {'key': 'Z90LhF6RqwI4o72V2elP6w', 'doc_count': 1}, {'key': 'ZIpPvfIGlrxhsAz1ID0tYg', 'doc_count': 1}, {'key': 'ZNZcptwIHne1PDcHaMbA-A', 'doc_count': 1}, {'key': 'Z_DbDsYr-5iHF4AAhZM6bQ', 'doc_count': 1}, {'key': 'ZcRKkaVxX5WjMY5-ZtJXgg', 'doc_count': 1}, {'key': 'ZcSdZkosdUL3mFAaNS2xAA', 'doc_count': 1}, {'key': 'Zo3IyrQqPDMQs_HNhzN7yQ', 'doc_count': 1}, {'key': 'ZoPCe0kiN7wr-fkdZdUxfg', 'doc_count': 1}, {'key': 'Zt63dPIva6t1iGs4TXX5dQ', 'doc_count': 1}, {'key': '_4bhVmlvT9dvqydQG2TOMA', 'doc_count': 1}, {'key': '_5rx2qVN9rkiohyzfdlo0A', 'doc_count': 1}, {'key': '_6UZVYaDbOVSCkCwSYM8Iw', 'doc_count': 1}, {'key': '_EWIAcznqBcCLon_MBf47Q', 'doc_count': 1}, {'key': '_H30_Y_YcQQ7kbix9a1KfQ', 'doc_count': 1}, {'key': '_NYc2bEyvzleMwhhNRr61Q', 'doc_count': 1}, {'key': '_PRReGRG73wT8edwsfWbuQ', 'doc_count': 1}, {'key': '_PZHmeCIdTVfByOUgBQKMA', 'doc_count': 1}, {'key': '_Yt2qfYGfggfAgo4P3hGMQ', 'doc_count': 1}, {'key': '_Z28lFtKhOJRt0UXQyrbWw', 'doc_count': 1}, {'key': '_pzBF2sn806Zm-tRLCPXEg', 'doc_count': 1}, {'key': 'a1GY-xy-PKrPXlMbhBv5ZA', 'doc_count': 1}, {'key': 'a3bZJ-XVjDLS6cs5VuEFOg', 'doc_count': 1}, {'key': 'a3vBDY9nx50qE-156xOzJQ', 'doc_count': 1}, {'key': 'a6KLVYQ41KMPmtEWak9aiQ', 'doc_count': 1}, {'key': 'a79rQXs_sLWlOrmC-LfKlw', 'doc_count': 1}, {'key': 'aE4P7zsKWnB53dgHE7tJUg', 'doc_count': 1}, {'key': 'aFzz6Y6xJrVz5D5EDgpgvg', 'doc_count': 1}, {'key': 'aePpEsIT6LzGuNDjS5U0Ag', 'doc_count': 1}, {'key': 'agLc6UUTB-tedr8mcZ6yVQ', 'doc_count': 1}, {'key': 'agO0uoHBr4kBPSsZf1SCIA', 'doc_count': 1}, {'key': 'amE0EGifQUXTUf225pQ1Kw', 'doc_count': 1}, {'key': 'arsTO8jBOkz60JfwAXCAlg', 'doc_count': 1}, {'key': 'ay9zMsFHhwD483o8Zwdc_A', 'doc_count': 1}, {'key': 'azp2wLevlaVODNk26MDfEA', 'doc_count': 1}, {'key': 'bKbvmpGy_L96qVtNeR_HNA', 'doc_count': 1}, {'key': 'bQHnSWizFsCl2seaNp2plw', 'doc_count': 1}, {'key': 'bWvu2hu2oyt5r7DkJFkFRA', 'doc_count': 1}, {'key': 'bXsc3GrmXs7qDSB5ujIISA', 'doc_count': 1}, {'key': 'bexfuMNPTX1Lo29eUMO_GQ', 'doc_count': 1}, {'key': 'bfY9Z5zOihXRrR2aqVqHXQ', 'doc_count': 1}, {'key': 'bsjW6a0dGa2jcIhAFhyUSw', 'doc_count': 1}, {'key': 'cBGrn9zx0TKob6HKQ09IIw', 'doc_count': 1}, {'key': 'cCMYCWvvYFQbAbEY4Gnrxg', 'doc_count': 1}, {'key': 'cEp9MdIDveyhcGctFqSIPw', 'doc_count': 1}, {'key': 'cOdEq7xqSFko6Gp8Ro9H8Q', 'doc_count': 1}, {'key': 'cVZ4whFwPNA721C4DIetbg', 'doc_count': 1}, {'key': 'c_cfKwpJz5GuPaNgBbFaIA', 'doc_count': 1}, {'key': 'cfTNnoBa3afaVRHY26kERQ', 'doc_count': 1}, {'key': 'cg0aMiX7521r-NlNA5aGRg', 'doc_count': 1}, {'key': 'chUeS0h9C8KGfyJO2Jqgew', 'doc_count': 1}, {'key': 'cmfezg7CSVpvnrgJv4nVDg', 'doc_count': 1}, {'key': 'cqPRhgzpPVtQBctn73k4pA', 'doc_count': 1}, {'key': 'cvjQUc07UCm184F4oC14Bg', 'doc_count': 1}, {'key': 'd26K8f4sHEl8Pvct59OISQ', 'doc_count': 1}, {'key': 'd3dw3YihB3WuU1Sb_i74-w', 'doc_count': 1}, {'key': 'd4ZxPSqoheCtocgdrbDq4g', 'doc_count': 1}, {'key': 'dEX1bviML-SKj_NTuVES6Q', 'doc_count': 1}, {'key': 'dKYxMT7zPvFI5uQNt2dTnw', 'doc_count': 1}, {'key': 'dSRGkZP3IycrsGoAXE1pHA', 'doc_count': 1}, {'key': 'dUAtskhiZO-MQnCBJRBxxg', 'doc_count': 1}, {'key': 'dmgMbBQlT9RkV6LWqrWG3A', 'doc_count': 1}, {'key': 'duHUVzl5tBe9jBrItc4a_A', 'doc_count': 1}, {'key': 'dy6-nzPitzJbsb09G8jNJg', 'doc_count': 1}, {'key': 'dywnaSEKtEacP4tCMqMotw', 'doc_count': 1}, {'key': 'dzeBiAu0VAaVBbMwcV9GFw', 'doc_count': 1}, {'key': 'dzn_4co1r9FTsFjYij_RNQ', 'doc_count': 1}, {'key': 'e32XMwd4bICY3XAhNdUGzQ', 'doc_count': 1}, {'key': 'e6DF-FlJ-BXf1vetAkr3Tg', 'doc_count': 1}, {'key': 'e6Sfya5us64PCBK42hCG-w', 'doc_count': 1}, {'key': 'e9iRcwcMQobsFhPBd22ZpA', 'doc_count': 1}, {'key': 'eORwNQsgjeJGrUPnQFJ9xA', 'doc_count': 1}, {'key': 'eVUP_iOwvsLk6daEmyhESA', 'doc_count': 1}, {'key': 'ee-2Z5tuo9bUbe9ZDgNgbQ', 'doc_count': 1}, {'key': 'ekYljPHt5KFDLHbBfpbRyQ', 'doc_count': 1}, {'key': 'f5VqTIMC-9Iw747SwhS0rg', 'doc_count': 1}, {'key': 'fBCv5Euudl9VieR870gwNg', 'doc_count': 1}, {'key': 'fBf15i9sn2TMmI7A7Wy_ag', 'doc_count': 1}, {'key': 'fKvPZFJtkPGsWmJR4XSGzg', 'doc_count': 1}, {'key': 'fVRnz0q3qMvEzHrH_blSKg', 'doc_count': 1}, {'key': 'fVvlgMz91aQuFqa5d2RirA', 'doc_count': 1}, {'key': 'fXnzjkAlJyCDUoRfJulWDQ', 'doc_count': 1}, {'key': 'fZ92MJ1hbEMXqwWTSwF9lA', 'doc_count': 1}, {'key': 'fa0vfZRwaFkwi1agHjZQ2A', 'doc_count': 1}, {'key': 'fiBEzPfn2VOZb-PjLcm7Ng', 'doc_count': 1}, {'key': 'frHBGK7C2yCQwkdNLarLmQ', 'doc_count': 1}, {'key': 'g3WWSxp-5JKa1LsY1vd9-A', 'doc_count': 1}, {'key': 'gBGD0dNvfLlQOAaZzCU1NQ', 'doc_count': 1}, {'key': 'gEJ3a8-m6VB827e6GHromw', 'doc_count': 1}, {'key': 'gKBqK-FFq7EGOUscBqb1iA', 'doc_count': 1}, {'key': 'gVJuK1B1E2vUpqgkiwIk_w', 'doc_count': 1}, {'key': 'gYhZZ76asIMT3UtWOzf94Q', 'doc_count': 1}, {'key': 'gdPngoSC01_gbRsbTiKELw', 'doc_count': 1}, {'key': 'ghzcfvjGzIEGsfFviJMLbA', 'doc_count': 1}, {'key': 'gnQFlMxlb26eYy1xmnW8fA', 'doc_count': 1}, {'key': 'gx-Pfb9bqt8_llJ33-tiXg', 'doc_count': 1}, {'key': 'hBxQX8FLCzNMV7o_deeYuw', 'doc_count': 1}, {'key': 'hCepXKyaJ4dQb2WX3KcUpA', 'doc_count': 1}, {'key': 'hFuRegkL_IFO5792-JegRw', 'doc_count': 1}, {'key': 'hJl2iR6T7ZQ0dr18JgQSpg', 'doc_count': 1}, {'key': 'hKq1-p4enCcnLwAnbROUwA', 'doc_count': 1}, {'key': 'hRPH-pAQmxSiyyxTfljusA', 'doc_count': 1}, {'key': 'hXPKz434rQ6sNbYNeutfWg', 'doc_count': 1}, {'key': 'hYSbIRxQgGU5mlQ8MO0P4Q', 'doc_count': 1}, {'key': 'hru2wpiFdQiBR2wKcglV0A', 'doc_count': 1}, {'key': 'hsEg4tfmaoxXRJFj7UrggQ', 'doc_count': 1}, {'key': 'htEq5Sc6BLfu7WCe_bZacA', 'doc_count': 1}, {'key': 'hxyedIXhDM48mLF8LAnX0Q', 'doc_count': 1}, {'key': 'hyKBOIgCLQ5srZ47Q5gIqQ', 'doc_count': 1}, {'key': 'i6MQKzq1NaCfm25gySOlJQ', 'doc_count': 1}, {'key': 'iA0csH3u6Ug1x1Pt0-El-A', 'doc_count': 1}, {'key': 'iESLDNx67PpLDnMFR8eDPw', 'doc_count': 1}, {'key': 'iKV83dI9jNc5h6L41aaUdw', 'doc_count': 1}, {'key': 'iKxULnOA8_CO0OwmpZ_MyQ', 'doc_count': 1}, {'key': 'iNffkHoswExv1sc2WG3U5g', 'doc_count': 1}, {'key': 'iPQ92dL0IK1o36k8GRICVg', 'doc_count': 1}, {'key': 'iRIHK8-EwpeffwvoO4nzIA', 'doc_count': 1}, {'key': 'iS-1WOYVoyN3Mt9-tvS5oA', 'doc_count': 1}, {'key': 'ilMOhEe4FRU4V-6ZqdYTPA', 'doc_count': 1}, {'key': 'j3E_vGw47XpiEgTr-KiJUg', 'doc_count': 1}, {'key': 'j3ZeNsdd8sm3y_qIx42k_w', 'doc_count': 1}, {'key': 'j3sRTkoqD_obks7IOW876w', 'doc_count': 1}, {'key': 'j3sxo6EBbdoPGgfPoq-YUA', 'doc_count': 1}, {'key': 'jGDNLw-hKHmg9vrndAXF7g', 'doc_count': 1}, {'key': 'jJKmOo4aeo_NanXQn1gjiw', 'doc_count': 1}, {'key': 'jKHlvwq40sghrR89pF_3Tw', 'doc_count': 1}, {'key': 'jM15GsyhiE6kNskyIx5ujA', 'doc_count': 1}, {'key': 'jM4xHqyMWjZ5LG9DxT8vaQ', 'doc_count': 1}, {'key': 'jMe_cXg-S9oM5oHzUU377w', 'doc_count': 1}, {'key': 'jP14cM0LSDhHI9-AkzsqJA', 'doc_count': 1}, {'key': 'jQBPO3rYkNwIaOdQS5ktgQ', 'doc_count': 1}, {'key': 'jaIMjd5J43Vg9VbLg_lpQA', 'doc_count': 1}, {'key': 'jaOZyyqGi8Qfu4fXh8pvDg', 'doc_count': 1}, {'key': 'jfyC8x-Mx-zLI66HQQElhQ', 'doc_count': 1}, {'key': 'jgmOySDa3Rn23l7uiS2JHw', 'doc_count': 1}, {'key': 'jqIaj-TnU4HiK-oJn4o_5w', 'doc_count': 1}, {'key': 'jsDCfwLMjksdVq5SkNMLcg', 'doc_count': 1}, {'key': 'kD3xTiUBm1VB_8Cfd3yzOA', 'doc_count': 1}, {'key': 'kDJ7OtOx4VLUoN4v1m8ikA', 'doc_count': 1}, {'key': 'kGYhWQy4PdgAVSUYb9U1Zw', 'doc_count': 1}, {'key': 'kTzA53wm9Q_RtmgBc27LyA', 'doc_count': 1}, {'key': 'kWxZoWO-Nw9V_xBgUYrRgQ', 'doc_count': 1}, {'key': 'kdG6HXfXPk6YKZ6lkURaEg', 'doc_count': 1}, {'key': 'khJNtyRfPwQ0ybr3tPeZ3g', 'doc_count': 1}, {'key': 'kpK6SmxIiNoGPNhlEGiL4w', 'doc_count': 1}, {'key': 'kpl3H_sgfTm-tH3Aa-ML7g', 'doc_count': 1}, {'key': 'l3zSx4cXpSOiUnEbjY1TxA', 'doc_count': 1}, {'key': 'lEmpcnfaI6AHu4D5YUc7fg', 'doc_count': 1}, {'key': 'lEscxKyDIEVbFvJE7t-ZiA', 'doc_count': 1}, {'key': 'lNTXXh_vrIt705lqDlDp5A', 'doc_count': 1}, {'key': 'lPekgFPCbU5Lbqos0jQlEw', 'doc_count': 1}, {'key': 'lQ58_4SzdETRSw0h8tilhA', 'doc_count': 1}, {'key': 'lW8gmKznFIUFKyFUUUbRwg', 'doc_count': 1}, {'key': 'lj-E32x9_FA7GmUrBGBEWg', 'doc_count': 1}, {'key': 'lpDctDItk9GkfZD-cZ6oQA', 'doc_count': 1}, {'key': 'ltXLSee05uJGzgDm8va1Pg', 'doc_count': 1}, {'key': 'lyFk5UsYV-qWEuv9lJZ06g', 'doc_count': 1}, {'key': 'lyek6DDpmba7SWw2STSKHw', 'doc_count': 1}, {'key': 'lyyIklgFipvDmimx6X_r2A', 'doc_count': 1}, {'key': 'mN8jXaxRIq4iZpA-CX4Q-g', 'doc_count': 1}, {'key': 'mcwiecpP3n5ED-8xKF5_1A', 'doc_count': 1}, {'key': 'me6uytm_6PkAYTUa222gkw', 'doc_count': 1}, {'key': 'mi2Yfs201zDxDFLZlsSIOg', 'doc_count': 1}, {'key': 'mmEI0Lni0_2VQcG1MxMZlw', 'doc_count': 1}, {'key': 'mmnneqm5rY6MNwF--uScYw', 'doc_count': 1}, {'key': 'mn7ZzKvNk7I_k5EpkjPtMA', 'doc_count': 1}, {'key': 'mqpXIXRuaWdKhWmeNRCh9Q', 'doc_count': 1}, {'key': 'mwClJ3GToMV17Guo-KLCRw', 'doc_count': 1}, {'key': 'mxz6YKVNVZvL3h0QzTQlZg', 'doc_count': 1}, {'key': 'myg9wV_3IgHGa-pVKVjijA', 'doc_count': 1}, {'key': 'n3jymf9NrYK36PsP8PtsAQ', 'doc_count': 1}, {'key': 'n4PdRDOWgBOhke7AqCW3FA', 'doc_count': 1}, {'key': 'n5ckluP3guLVOMBwVS7tXA', 'doc_count': 1}, {'key': 'nGElMRWr0BcQKFPa4ZBMYA', 'doc_count': 1}, {'key': 'nJUJU1Hz9StUZ2li8Gxb_A', 'doc_count': 1}, {'key': 'nLSxxer8E-c2Zs_asUvbzg', 'doc_count': 1}, {'key': 'nMw5vP6KwTb6HWbpxRWXsQ', 'doc_count': 1}, {'key': 'nX2105_S9lUhB5rbhC2n2w', 'doc_count': 1}, {'key': 'n_0UpQx1hsNbnPUSlodU8w', 'doc_count': 1}, {'key': 'naFGcne3L3jawX6dojSE4w', 'doc_count': 1}, {'key': 'ncuEphnQYscOB_KyUUsKfg', 'doc_count': 1}, {'key': 'ncwW7rgpLEfoR44IwAsOVQ', 'doc_count': 1}, {'key': 'niYgIO2ZMUX7CVvr1B5McQ', 'doc_count': 1}, {'key': 'nkzhe-nViX6e-lBdhDLbGg', 'doc_count': 1}, {'key': 'nmDhqjBvxXwQqzVg3FIUiQ', 'doc_count': 1}, {'key': 'nn5tvvgFtnoyCocACvXmJQ', 'doc_count': 1}, {'key': 'nqzOH_1CBGe2VrsxTziuvg', 'doc_count': 1}, {'key': 'ntxzYGlX72EEtQMbyFm0Iw', 'doc_count': 1}, {'key': 'o2uKA4DbVaM2Daha0lVX9w', 'doc_count': 1}, {'key': 'oD8mBsHWciM_t19LN-scjw', 'doc_count': 1}, {'key': 'oFxKFiDkP_lGaFAzvnzZfA', 'doc_count': 1}, {'key': 'oHysEBKUaE9T56XSDbt7Yw', 'doc_count': 1}, {'key': 'oRY9axuwOQSN4HbTu7obtg', 'doc_count': 1}, {'key': 'oSgio-JgXNsqKx9CXZ0YUg', 'doc_count': 1}, {'key': 'oUgmm76-UCd5N0z4xwDOYw', 'doc_count': 1}, {'key': 'oaXCDG4UwU4zeUkOqJtoyA', 'doc_count': 1}, {'key': 'od5yoX7MmEYvZ9l6Fsdpkg', 'doc_count': 1}, {'key': 'odmlB8yEspmDyYOpDA_fzQ', 'doc_count': 1}, {'key': 'ohM-LUBGHBU923geLBO9tw', 'doc_count': 1}, {'key': 'ohs__H1zNoF4CAjrK1s3IA', 'doc_count': 1}, {'key': 'oiD4N-h7GotnsiXEa4Er5g', 'doc_count': 1}, {'key': 'oizFhdG9op9AuIhmXB6vbA', 'doc_count': 1}, {'key': 'ojHdnmPu9omkPKK-fir7Vg', 'doc_count': 1}, {'key': 'oqHGxhZfKE3n0h2ICtoqpQ', 'doc_count': 1}, {'key': 'osL7qIVyk-WCdK9qiPTS5A', 'doc_count': 1}, {'key': 'ovEGFboupQdbfA3aW33zPQ', 'doc_count': 1}, {'key': 'owrGcj5a7W0QnWA7HwJ2Ag', 'doc_count': 1}, {'key': 'pWCxErR_vNWv4IjLKVPX-w', 'doc_count': 1}, {'key': 'pZPp4gWPJ46WyDxLCM2c3A', 'doc_count': 1}, {'key': 'q2gRx1K1mbk6zHV4ZOCChQ', 'doc_count': 1}, {'key': 'q5nmlxpyLN95f8ZnBThUWA', 'doc_count': 1}, {'key': 'qIua0jB42KN7txeSaZeAOg', 'doc_count': 1}, {'key': 'qKTjtjNSHNj8g2ugXlmkTA', 'doc_count': 1}, {'key': 'qKr8O3IVXwyGFiQVFmA8CA', 'doc_count': 1}, {'key': 'qWlAXLsnFZP0IOZXb3L8yQ', 'doc_count': 1}, {'key': 'qZR0xNQP9XTLi9MQuR5oXw', 'doc_count': 1}, {'key': 'qa63e0YXdfhInm7NvdHa6g', 'doc_count': 1}, {'key': 'qhsJbgxVNDb0973r3Gjrow', 'doc_count': 1}, {'key': 'qkMMO794-59404bUiJ1Odg', 'doc_count': 1}, {'key': 'qkRVsXF9yyqjbPklgL2v6Q', 'doc_count': 1}, {'key': 'qm7qf6A4hUgLqTxLpSBXpw', 'doc_count': 1}, {'key': 'qma1sGQv7ArUtzuUTQElRg', 'doc_count': 1}, {'key': 'qu5CE5JNsH1KLZrRz71_6Q', 'doc_count': 1}, {'key': 'r-Vgf-fC8CKiP0Mp3cAHjQ', 'doc_count': 1}, {'key': 'r2bYRNrtMhv-ED2-cFZp6Q', 'doc_count': 1}, {'key': 'r5hsJYYAP1SOvWUHtM6aXg', 'doc_count': 1}, {'key': 'rBhEQ5KjkF1FLQpssqpDMA', 'doc_count': 1}, {'key': 'rDIQ4W09tuEYFisndh_mgA', 'doc_count': 1}, {'key': 'rElxptPIJZicDM39e1ORTg', 'doc_count': 1}, {'key': 'rKO2kZB--kKG94HGzg5ysQ', 'doc_count': 1}, {'key': 'rdtx0kMDoC15FvNyom6W_g', 'doc_count': 1}, {'key': 'rfbfSleg64ObTGGRMZgt3A', 'doc_count': 1}, {'key': 'riWkkoambT47n3fUjy6gEg', 'doc_count': 1}, {'key': 's7Y7ssmJEHh-vHkKX-q_Eg', 'doc_count': 1}, {'key': 'sCo3YovGDt8fINYJo9UBCQ', 'doc_count': 1}, {'key': 'sJ1F_ab3XcCOKqXB6tjrvA', 'doc_count': 1}, {'key': 'sXaiyPC1fT6ESl-6t7eSXg', 'doc_count': 1}, {'key': 's_iBdCSstqS6oyc_gHezFQ', 'doc_count': 1}, {'key': 'sbDkgQSyMIn2xO34ZmFoCQ', 'doc_count': 1}, {'key': 'seyS6QybAaG_1spjTa6CGw', 'doc_count': 1}, {'key': 'sikefl5Nj00MNQ1OUyCEcg', 'doc_count': 1}, {'key': 'ssVh86UstRVGUi9ZLQGb7A', 'doc_count': 1}, {'key': 'ssg1fbwkHKTxn4aPl6LJMQ', 'doc_count': 1}, {'key': 't-QxJFbbSjC-_X9TWJqITA', 'doc_count': 1}, {'key': 't5T23jR4tIV7YzYN-k-g_A', 'doc_count': 1}, {'key': 't7mIcqJffkcFcNdT7NBStw', 'doc_count': 1}, {'key': 'tEf_BkzhmPBrP5DzKKBPgw', 'doc_count': 1}, {'key': 'tSkopkuxZ6s-UYKCMRHJLg', 'doc_count': 1}, {'key': 'tf5JMBd-HUackUePWPlawQ', 'doc_count': 1}, {'key': 'tixiynQF8-KztXQLpyctJA', 'doc_count': 1}, {'key': 'tk1IFIxu3cTDfXkDjYGf0Q', 'doc_count': 1}, {'key': 'tn3_76PZZLCmGBLgBWdTTw', 'doc_count': 1}, {'key': 'tvS5IsYwDbRyMlwFoplOdw', 'doc_count': 1}, {'key': 'u35_2ABAwJZVB4AclMQ11A', 'doc_count': 1}, {'key': 'u4M4SxqehnyMI5vs9HaW7Q', 'doc_count': 1}, {'key': 'u8XChTLcpLZV7h8P42LffA', 'doc_count': 1}, {'key': 'uReXJy913T1GFIzI_Uga7A', 'doc_count': 1}, {'key': 'ufl2QIApf2BV6L-L76SgaQ', 'doc_count': 1}, {'key': 'uiK29Gh9OVX3kk9TOgP-Fw', 'doc_count': 1}, {'key': 'uiLHEHh1VZ6u8Wx1kXcROg', 'doc_count': 1}, {'key': 'urDFx_4Q2MO5Ewpy1KCQrQ', 'doc_count': 1}, {'key': 'usMfXxfTwLHz2dEcbIFZ2g', 'doc_count': 1}, {'key': 'v4S374WpOOhojqpto-AaAA', 'doc_count': 1}, {'key': 'vB6RTjuDxOlfh6xWegVt0w', 'doc_count': 1}, {'key': 'vIg_WNUAZHXcqe-9JdWJ7w', 'doc_count': 1}, {'key': 'vMJKGO5HXYiyPu7_fDTfPA', 'doc_count': 1}, {'key': 'vXpMmtc6-m3YiUe6ze44pw', 'doc_count': 1}, {'key': 'v_JuiBi8TY9UE0LoWNJ6vw', 'doc_count': 1}, {'key': 'vgTA3vYLwZM2OnzJHjNdug', 'doc_count': 1}, {'key': 'vgUCHA9janT7JJ6ZoUHN2w', 'doc_count': 1}, {'key': 'vwqxAf0cPK0YuMYLYgxYWQ', 'doc_count': 1}, {'key': 'w2NiG6ftSvpU81eRghLIjQ', 'doc_count': 1}, {'key': 'w9H_CdMp9hCYqbWgpv3D0w', 'doc_count': 1}, {'key': 'wCxiDaOI0LVWdqUEWoPv_A', 'doc_count': 1}, {'key': 'wJuWId7lvoTElFX3rN7smQ', 'doc_count': 1}, {'key': 'wL8FZJyRCkcbVOeF9WNJvA', 'doc_count': 1}, {'key': 'wMWRpzjKgwIef2yJ41RCGw', 'doc_count': 1}, {'key': 'wMyHVb54Ne9SNasa4kjOCg', 'doc_count': 1}, {'key': 'wOTgc9SPrAtFS1qagWQyNw', 'doc_count': 1}, {'key': 'wPn-zmBl80pJBCxmR3P5Nw', 'doc_count': 1}, {'key': 'wU0pnVCtf23mxXjPzhCacA', 'doc_count': 1}, {'key': 'wc_VEdAstWy0dk3LcCBu8g', 'doc_count': 1}, {'key': 'wi_YbbxLVRgKjRWe3Nay7g', 'doc_count': 1}, {'key': 'wo9kN5iSlUNG6HIH7OLurw', 'doc_count': 1}, {'key': 'x7fb9Qvv0h-Rf20mlfDXQg', 'doc_count': 1}, {'key': 'x8AQIEjSqsW0z4vRyBetbw', 'doc_count': 1}, {'key': 'xBukEVM22gDG_7-Uh6zkqg', 'doc_count': 1}, {'key': 'xe2L_RvBNgkrVburQrfW_Q', 'doc_count': 1}, {'key': 'xjF8NZZ2WIk3A2sW3nXyhA', 'doc_count': 1}, {'key': 'xmyyCbcUhXaiYqzejO0Sgg', 'doc_count': 1}, {'key': 'xqrlUnrLo1t9UP38S02qeg', 'doc_count': 1}, {'key': 'xwINKhwJ1Ns_Raw5SlWB8g', 'doc_count': 1}, {'key': 'y2N7HOJzthnlAL5UNeY2DQ', 'doc_count': 1}, {'key': 'y2sG0--dXKaeWDtCpnFBTA', 'doc_count': 1}, {'key': 'y2vuUn7we7GU31X64MpTuw', 'doc_count': 1}, {'key': 'y68ddl23zvgIY2aWvCNjaw', 'doc_count': 1}, {'key': 'y8FT_k6ITh27wH1jxxhsIA', 'doc_count': 1}, {'key': 'yDYj2essjns8V94DQpfVdw', 'doc_count': 1}, {'key': 'yD_x-v7p-ytv-VoQzoJCdg', 'doc_count': 1}, {'key': 'yGKeP2m3RefZY-kFqjTNGQ', 'doc_count': 1}, {'key': 'yHQVSV0OEaKuWgJZKCl2bQ', 'doc_count': 1}, {'key': 'yMdD4DtCJllHZxONdcM6Ng', 'doc_count': 1}, {'key': 'yVZtL5MmrpiivyCIrVkGgA', 'doc_count': 1}, {'key': 'yZEHSlOaSQHGnAbS7iYD2g', 'doc_count': 1}, {'key': 'ym2GsJkdeGZqNn_Rf9UC3Q', 'doc_count': 1}, {'key': 'ynFhD8GWcSNryihKoi5kKA', 'doc_count': 1}, {'key': 'yvwIsOBQyTDsOhfS1sIVvQ', 'doc_count': 1}, {'key': 'ywfS_LmdoKADt-cCmKSJAg', 'doc_count': 1}, {'key': 'z-SOUKCcTa2NgCDW7e9k_w', 'doc_count': 1}, {'key': 'zIDkiMEXF2zerx_xpLWUqQ', 'doc_count': 1}, {'key': 'zLt3rYWU2vi3Jyt-nqvLTA', 'doc_count': 1}, {'key': 'zXTO8GaLmRPATr505b4GQQ', 'doc_count': 1}, {'key': 'zYy9lS8HlpbCHsGPmORTfA', 'doc_count': 1}, {'key': 'zyFn7oqokhaUaPPqd2FbbA', 'doc_count': 1}]}}})"
      ]
     },
     "execution_count": 37,
     "metadata": {},
     "output_type": "execute_result"
    }
   ],
   "source": [
    "response"
   ]
  },
  {
   "cell_type": "markdown",
   "id": "e616d667",
   "metadata": {},
   "source": [
    "#### 2. Bounding Box of Business Reviewed "
   ]
  },
  {
   "cell_type": "code",
   "execution_count": 138,
   "id": "07cd3354",
   "metadata": {},
   "outputs": [],
   "source": [
    "def bounding_box(X, Y, r=10, R=6.4):\n",
    "    C = 2 * np.pi * R\n",
    "    \n",
    "    dY = r * C / 360\n",
    "    dX = dY * np.cos(np.radians(Y))\n",
    "    \n",
    "    Xmin, Ymin = X - dX, Y - dY\n",
    "    Xmax, Ymax = X + dX, Y + dY\n",
    "    return (Xmin, Ymin, Xmax, Ymax)"
   ]
  },
  {
   "cell_type": "code",
   "execution_count": 139,
   "id": "01c8fc0f",
   "metadata": {},
   "outputs": [
    {
     "data": {
      "text/plain": [
       "(-91.3216272246551, 37.59298927872363, -89.5783727753449, 39.82701072127637)"
      ]
     },
     "execution_count": 139,
     "metadata": {},
     "output_type": "execute_result"
    }
   ],
   "source": [
    "bounding_box(-90.45, 38.71)"
   ]
  },
  {
   "cell_type": "code",
   "execution_count": 170,
   "id": "2a968a9d",
   "metadata": {},
   "outputs": [
    {
     "name": "stdout",
     "output_type": "stream",
     "text": [
      "(-91.2130947943793, 37.51068427872363, -89.46783520562069, 39.744705721276375)\n",
      "(-91.1869234305881, 37.54843827872363, -89.44258316941192, 39.782459721276375)\n",
      "(-91.387732786376, 37.507669278723625, -89.642399813624, 39.74169072127637)\n",
      "(-91.14692526270217, 37.50140097872363, -89.40143973729782, 39.735422421276375)\n",
      "(-91.06242796779257, 37.50942927872363, -89.31713783220742, 39.743450721276375)\n",
      "(-91.12934570101504, 37.50977987872363, -89.38406409898496, 39.74380132127637)\n",
      "(-91.27901508888033, 37.515483078723626, -89.53387231111967, 39.74950452127637)\n",
      "(-91.22083946574367, 37.51773179752363, -89.47575142985633, 39.751753240076376)\n",
      "(-91.12837360181501, 37.50270447872363, -89.38291979818499, 39.736725921276374)\n",
      "(-91.16269003548155, 37.46477537872363, -89.41631356451845, 39.698796821276375)\n"
     ]
    }
   ],
   "source": [
    "response = es.search(\n",
    "    index = \"business_data\", \n",
    "    query = {\n",
    "        \"bool\": {\n",
    "            \"should\": [{\"match\": {\"business_id\": value}} for value in business_ids]\n",
    "        }\n",
    "    },\n",
    "    size=10000,\n",
    ")\n",
    "\n",
    "for hit in response[\"hits\"][\"hits\"][:10]:\n",
    "    print(bounding_box(hit[\"_source\"][\"longitude\"], hit[\"_source\"][\"latitude\"]))"
   ]
  }
 ],
 "metadata": {
  "kernelspec": {
   "display_name": "Jupyter",
   "language": "python",
   "name": "jupyter"
  },
  "language_info": {
   "codemirror_mode": {
    "name": "ipython",
    "version": 3
   },
   "file_extension": ".py",
   "mimetype": "text/x-python",
   "name": "python",
   "nbconvert_exporter": "python",
   "pygments_lexer": "ipython3",
   "version": "3.10.5"
  }
 },
 "nbformat": 4,
 "nbformat_minor": 5
}
