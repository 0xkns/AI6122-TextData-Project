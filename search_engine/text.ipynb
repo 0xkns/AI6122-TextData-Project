{
 "cells": [
  {
   "cell_type": "code",
   "execution_count": 1,
   "metadata": {},
   "outputs": [
    {
     "data": {
      "text/plain": [
       "True"
      ]
     },
     "execution_count": 1,
     "metadata": {},
     "output_type": "execute_result"
    }
   ],
   "source": [
    "import pandas as pd\n",
    "from dotenv import load_dotenv, find_dotenv\n",
    "from elasticsearch import Elasticsearch\n",
    "import os\n",
    "\n",
    "load_dotenv(find_dotenv())"
   ]
  },
  {
   "cell_type": "code",
   "execution_count": 2,
   "metadata": {},
   "outputs": [],
   "source": [
    "cloud_id = os.environ.get(\"CLOUD_ID\")\n",
    "api_key = os.environ.get(\"API_KEY\")"
   ]
  },
  {
   "cell_type": "code",
   "execution_count": 3,
   "metadata": {},
   "outputs": [],
   "source": [
    "es = Elasticsearch(cloud_id=cloud_id, api_key=api_key)"
   ]
  },
  {
   "cell_type": "code",
   "execution_count": 4,
   "metadata": {},
   "outputs": [
    {
     "data": {
      "text/plain": [
       "ObjectApiResponse({'name': 'instance-0000000001', 'cluster_name': '9caa7647389a4f10a248732811d4a4ca', 'cluster_uuid': '8ogLGj2ZT7ywFoZnNQLygQ', 'version': {'number': '8.15.2', 'build_flavor': 'default', 'build_type': 'docker', 'build_hash': '98adf7bf6bb69b66ab95b761c9e5aadb0bb059a3', 'build_date': '2024-09-19T10:06:03.564235954Z', 'build_snapshot': False, 'lucene_version': '9.11.1', 'minimum_wire_compatibility_version': '7.17.0', 'minimum_index_compatibility_version': '7.0.0'}, 'tagline': 'You Know, for Search'})"
      ]
     },
     "execution_count": 4,
     "metadata": {},
     "output_type": "execute_result"
    }
   ],
   "source": [
    "es.info()"
   ]
  },
  {
   "cell_type": "code",
   "execution_count": 5,
   "metadata": {},
   "outputs": [
    {
     "name": "stdout",
     "output_type": "stream",
     "text": [
      "Index(['business_id', 'name', 'address', 'city', 'state', 'postal_code',\n",
      "       'latitude', 'longitude', 'stars', 'review_count', 'is_open',\n",
      "       'attributes', 'categories', 'hours'],\n",
      "      dtype='object')\n",
      "{'business_id': 'mpf3x-BjTdTEA3yCZrAYPw', 'name': 'The UPS Store', 'address': '87 Grasso Plaza Shopping Center', 'city': 'Affton', 'state': 'MO', 'postal_code': '63123', 'latitude': 38.551126, 'longitude': -90.335695, 'stars': 3.0, 'review_count': 15, 'is_open': 1, 'attributes': {'BusinessAcceptsCreditCards': 'True'}, 'categories': 'Shipping Centers, Local Services, Notaries, Mailbox Centers, Printing Services', 'hours': {'Monday': '0:0-0:0', 'Tuesday': '8:0-18:30', 'Wednesday': '8:0-18:30', 'Thursday': '8:0-18:30', 'Friday': '8:0-18:30', 'Saturday': '8:0-14:0'}}\n"
     ]
    }
   ],
   "source": [
    "df = pd.read_json(\"../yelp_data/mo_business.json\")\n",
    "print(df.columns)\n",
    "print(df.iloc[0].to_dict())"
   ]
  },
  {
   "cell_type": "code",
   "execution_count": 6,
   "metadata": {},
   "outputs": [
    {
     "name": "stdout",
     "output_type": "stream",
     "text": [
      "<class 'pandas.core.frame.DataFrame'>\n",
      "RangeIndex: 10913 entries, 0 to 10912\n",
      "Data columns (total 14 columns):\n",
      " #   Column        Non-Null Count  Dtype  \n",
      "---  ------        --------------  -----  \n",
      " 0   business_id   10913 non-null  object \n",
      " 1   name          10913 non-null  object \n",
      " 2   address       10913 non-null  object \n",
      " 3   city          10913 non-null  object \n",
      " 4   state         10913 non-null  object \n",
      " 5   postal_code   10913 non-null  object \n",
      " 6   latitude      10913 non-null  float64\n",
      " 7   longitude     10913 non-null  float64\n",
      " 8   stars         10913 non-null  float64\n",
      " 9   review_count  10913 non-null  int64  \n",
      " 10  is_open       10913 non-null  int64  \n",
      " 11  attributes    10047 non-null  object \n",
      " 12  categories    10907 non-null  object \n",
      " 13  hours         9450 non-null   object \n",
      "dtypes: float64(3), int64(2), object(9)\n",
      "memory usage: 1.2+ MB\n"
     ]
    }
   ],
   "source": [
    "df.info()"
   ]
  },
  {
   "cell_type": "code",
   "execution_count": 8,
   "metadata": {},
   "outputs": [],
   "source": [
    "## fillna\n",
    "df['attributes'] = df['attributes'].fillna({})\n",
    "df['hours'] = df['hours'].fillna({})\n",
    "df['categories'] = df['categories'].fillna(\"Unknown\")\n",
    "\n",
    "## dtype mapping\n",
    "df['is_open'] = df['is_open'].astype(bool)\n",
    "df['business_id'] = df['business_id'].astype(str)\n",
    "df['name'] = df['name'].astype(str)\n",
    "df['postal_code'] = df['postal_code'].astype(str)"
   ]
  },
  {
   "cell_type": "code",
   "execution_count": 9,
   "metadata": {},
   "outputs": [
    {
     "name": "stdout",
     "output_type": "stream",
     "text": [
      "<class 'pandas.core.frame.DataFrame'>\n",
      "RangeIndex: 10913 entries, 0 to 10912\n",
      "Data columns (total 14 columns):\n",
      " #   Column        Non-Null Count  Dtype  \n",
      "---  ------        --------------  -----  \n",
      " 0   business_id   10913 non-null  object \n",
      " 1   name          10913 non-null  object \n",
      " 2   address       10913 non-null  object \n",
      " 3   city          10913 non-null  object \n",
      " 4   state         10913 non-null  object \n",
      " 5   postal_code   10913 non-null  object \n",
      " 6   latitude      10913 non-null  float64\n",
      " 7   longitude     10913 non-null  float64\n",
      " 8   stars         10913 non-null  float64\n",
      " 9   review_count  10913 non-null  int64  \n",
      " 10  is_open       10913 non-null  bool   \n",
      " 11  attributes    10047 non-null  object \n",
      " 12  categories    10913 non-null  object \n",
      " 13  hours         9450 non-null   object \n",
      "dtypes: bool(1), float64(3), int64(1), object(9)\n",
      "memory usage: 1.1+ MB\n"
     ]
    }
   ],
   "source": [
    "df.info()"
   ]
  },
  {
   "cell_type": "code",
   "execution_count": 6,
   "metadata": {},
   "outputs": [],
   "source": [
    "index_name = \"business_data\"\n",
    "\n",
    "mapping = {\n",
    "    \"mappings\": {\n",
    "        \"properties\": {\n",
    "            \"business_id\": {\"type\": \"keyword\"},\n",
    "            \"name\": {\"type\": \"text\"},\n",
    "            \"address\": {\"type\": \"text\"},\n",
    "            \"city\": {\"type\": \"keyword\"},\n",
    "            \"state\": {\"type\": \"keyword\"},\n",
    "            \"postal_code\": {\"type\": \"keyword\"},\n",
    "            \"latitude\": {\"type\": \"float\"},\n",
    "            \"longitude\": {\"type\": \"float\"},\n",
    "            \"stars\": {\"type\": \"float\"},\n",
    "            \"review_count\": {\"type\": \"integer\"},\n",
    "            \"is_open\": {\"type\": \"boolean\"},\n",
    "            \"attributes\": {\n",
    "                \"properties\": {\n",
    "                    \"BusinessAcceptsCreditCards\": {\"type\": \"boolean\"}\n",
    "                }\n",
    "            },\n",
    "            \"categories\": {\"type\": \"text\"},\n",
    "            \"hours\": {\n",
    "                \"properties\": {\n",
    "                    \"Monday\": {\"type\": \"text\"},\n",
    "                    \"Tuesday\": {\"type\": \"text\"},\n",
    "                    \"Wednesday\": {\"type\": \"text\"},\n",
    "                    \"Thursday\": {\"type\": \"text\"},\n",
    "                    \"Friday\": {\"type\": \"text\"},\n",
    "                    \"Saturday\": {\"type\": \"text\"},\n",
    "                    \"Sunday\": {\"type\": \"text\"}\n",
    "                }\n",
    "            }\n",
    "        }\n",
    "    }\n",
    "}"
   ]
  },
  {
   "cell_type": "markdown",
   "metadata": {},
   "source": [
    "## create business index"
   ]
  },
  {
   "cell_type": "code",
   "execution_count": 8,
   "metadata": {},
   "outputs": [],
   "source": [
    "from elasticsearch.helpers import bulk"
   ]
  },
  {
   "cell_type": "code",
   "execution_count": 7,
   "metadata": {},
   "outputs": [
    {
     "name": "stdout",
     "output_type": "stream",
     "text": [
      "Index 'business_data' created successfully!\n"
     ]
    }
   ],
   "source": [
    "if not es.indices.exists(index=index_name):\n",
    "    es.indices.create(index=index_name, body=mapping)\n",
    "    print(f\"Index '{index_name}' created successfully!\")\n",
    "else:\n",
    "    print(f\"Index '{index_name}' already exists.\")"
   ]
  },
  {
   "cell_type": "code",
   "execution_count": null,
   "metadata": {},
   "outputs": [
    {
     "name": "stdout",
     "output_type": "stream",
     "text": [
      "0\n",
      "1\n",
      "2\n",
      "3\n",
      "4\n",
      "5\n",
      "6\n",
      "7\n",
      "8\n",
      "9\n",
      "10\n",
      "11\n",
      "12\n",
      "14\n",
      "15\n",
      "16\n",
      "17\n",
      "18\n",
      "19\n",
      "20\n",
      "21\n",
      "22\n",
      "23\n",
      "25\n",
      "27\n",
      "28\n",
      "29\n",
      "30\n",
      "31\n",
      "33\n",
      "34\n",
      "35\n",
      "37\n",
      "39\n",
      "40\n",
      "42\n",
      "44\n",
      "45\n",
      "46\n",
      "48\n",
      "49\n",
      "50\n",
      "51\n",
      "52\n",
      "53\n",
      "54\n",
      "55\n",
      "56\n",
      "57\n",
      "58\n",
      "60\n",
      "61\n",
      "62\n",
      "63\n",
      "64\n",
      "65\n",
      "66\n",
      "67\n",
      "69\n",
      "70\n",
      "71\n",
      "72\n",
      "74\n",
      "75\n",
      "76\n",
      "77\n",
      "78\n",
      "79\n",
      "80\n"
     ]
    }
   ],
   "source": [
    "def upload_to_elastic(df, index_name):\n",
    "    for _, row in df.iterrows():\n",
    "        yield {\n",
    "            \"_index\": index_name,\n",
    "            \"_id\": row['business_id'],\n",
    "            \"_source\": row.to_dict()\n",
    "        }\n",
    "\n",
    "for i, doc in enumerate(upload_to_elastic(df, index_name)):\n",
    "    try:\n",
    "        es.index(index=doc['_index'], id=doc['_id'], document=doc['_source'])\n",
    "    except:\n",
    "        print(i)"
   ]
  }
 ],
 "metadata": {
  "kernelspec": {
   "display_name": "venv",
   "language": "python",
   "name": "python3"
  },
  "language_info": {
   "codemirror_mode": {
    "name": "ipython",
    "version": 3
   },
   "file_extension": ".py",
   "mimetype": "text/x-python",
   "name": "python",
   "nbconvert_exporter": "python",
   "pygments_lexer": "ipython3",
   "version": "3.11.9"
  }
 },
 "nbformat": 4,
 "nbformat_minor": 2
}
